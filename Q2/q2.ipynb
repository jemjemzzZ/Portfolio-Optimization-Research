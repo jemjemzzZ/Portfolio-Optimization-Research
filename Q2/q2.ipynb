{
 "cells": [
  {
   "cell_type": "code",
   "execution_count": 11,
   "metadata": {},
   "outputs": [],
   "source": [
    "import tool\n",
    "import scipy\n",
    "import pandas as pd\n",
    "import numpy as np\n",
    "%matplotlib widget\n",
    "import matplotlib.pyplot as plt\n",
    "from ipywidgets import interact, SelectMultiple, fixed\n",
    "import warnings\n",
    "warnings.filterwarnings('ignore')"
   ]
  },
  {
   "cell_type": "code",
   "execution_count": 12,
   "metadata": {},
   "outputs": [
    {
     "name": "stdout",
     "output_type": "stream",
     "text": [
      "['h01051.CSI', '931698.CSI', 'h00060.SH', 'h30136.CSI', '932093.CSI', 'L11621.CSI', '930660.CSI']\n",
      "S_IRDCODE   h01051.CSI  931698.CSI  h00060.SH  h30136.CSI  932093.CSI  \\\n",
      "TRADE_DT                                                                \n",
      "2023-01-03    810.4735   8576.9398  5206.2104   1596.3014    825.7359   \n",
      "2023-01-04    809.6737   8612.3302  5251.7832   1646.3276    818.8669   \n",
      "2023-01-05    814.7967   8759.5356  5282.9599   1658.7949    829.2426   \n",
      "2023-01-06    825.3162   8702.6039  5280.9130   1663.0547    833.4055   \n",
      "2023-01-09    829.1884   8768.6148  5306.7821   1700.2410    837.8665   \n",
      "...                ...         ...        ...         ...         ...   \n",
      "2023-12-20    798.2527   7638.7525  5578.6980   1485.8548    756.5774   \n",
      "2023-12-21    798.2527   7638.7525  5578.6980   1485.8548    756.5774   \n",
      "2023-12-22    798.2527   7638.7525  5578.6980   1485.8548    756.5774   \n",
      "2023-12-25    798.2527   7638.7525  5578.6980   1485.8548    756.5774   \n",
      "2023-12-26    798.2527   7638.7525  5578.6980   1485.8548    756.5774   \n",
      "\n",
      "S_IRDCODE   L11621.CSI  930660.CSI  \n",
      "TRADE_DT                            \n",
      "2023-01-03   4811.8458   1199.8066  \n",
      "2023-01-04   4719.9407   1222.0940  \n",
      "2023-01-05   4893.1327   1228.5433  \n",
      "2023-01-06   5021.0617   1219.9191  \n",
      "2023-01-09   5059.6466   1231.1907  \n",
      "...                ...         ...  \n",
      "2023-12-20   5565.7309   1323.9261  \n",
      "2023-12-21   5565.7309   1323.9261  \n",
      "2023-12-22   5565.7309   1323.9261  \n",
      "2023-12-25   5565.7309   1323.9261  \n",
      "2023-12-26   5565.7309   1323.9261  \n",
      "\n",
      "[250 rows x 7 columns]\n"
     ]
    }
   ],
   "source": [
    "\"\"\"\n",
    "Data initialisation\n",
    "\"\"\"\n",
    "\n",
    "asset_index = pd.read_csv(\"data/AIDX.csv\", encoding='gbk')\n",
    "\n",
    "index_list = asset_index['S_IRDCODE'].drop_duplicates().sample(np.random.randint(*(5, 10))).tolist()\n",
    "\n",
    "asset_index['TRADE_DT'] = pd.to_datetime(asset_index['TRADE_DT'], format='%Y%m%d')\n",
    "asset_index.sort_values(by='TRADE_DT', inplace=True)\n",
    "asset_index.set_index('TRADE_DT', inplace=True)\n",
    "asset_index = asset_index.pivot(columns='S_IRDCODE', values='CLOSE').ffill()[index_list].dropna()\n",
    "\n",
    "print(index_list)\n",
    "print(asset_index)"
   ]
  },
  {
   "cell_type": "code",
   "execution_count": 13,
   "metadata": {},
   "outputs": [],
   "source": [
    "\"\"\"\n",
    "Parameters\n",
    "\"\"\"\n",
    "BACKTEST_DAY = 30\n",
    "MODEL_TYPE = 'RP' # MVO, RP\n",
    "TARGET_RETURN = 0.0 # target return\n",
    "RISK_FREE_RATE = 0.02 # risk-free rate\n",
    "REBALANCE_DAYS = 20\n",
    "\n",
    "n = len(index_list)\n",
    "index_min_weight = [0 for _ in range(n)]\n",
    "index_max_weight = [1 for _ in range(n)]\n",
    "WEIGHT_CONSTRAINTS = list(zip(index_min_weight, index_max_weight))"
   ]
  },
  {
   "cell_type": "code",
   "execution_count": 14,
   "metadata": {},
   "outputs": [
    {
     "name": "stdout",
     "output_type": "stream",
     "text": [
      "[(1.32813430375707, 56.37762958284468, 0.02320307386877305), (-0.013009634729776204, 30.784629345633874, -0.0010722765039384145), (0.7606891869292984, 66.25308641187765, 0.011179693310054004), (0.3067936293836631, 54.02516895854805, 0.005308518879482109), (0.34290190055774916, 24.851160305823534, 0.012993433569461199), (2.4181721718034033, 46.3761272966235, 0.0517113504640998), (-0.048657292330602155, 28.888082951019435, -0.0023766648845135394), (-0.17601729662780916, 45.964446362922885, -0.004264541665097179), (0.02094809411058799, 43.25905350313749, 2.1916663306542916e-05), (-0.14372402575829213, 24.036658392042654, -0.006811430403008641), (0.0802316717625676, 34.49104805522562, 0.001746298682084904)]\n",
      "[(0.08188261887054518, 21.692814471501936, 0.002852678196821394), (0.4532695492189157, 72.24705063264201, 0.005997055179760649), (0.5030766879645534, 58.525529564251165, 0.008254119041062527), (0.30869079541496625, 29.039530502367377, 0.009941303816583102), (1.82954645224246, 45.67199182341742, 0.039620484677759346), (-0.16447688047398334, 29.973268019399487, -0.006154713605289388), (0.0259419752541049, 38.069782619516, 0.000156081144814807), (0.007443187504155277, 45.553097409034216, -0.0002756522214745033), (-0.16029778042449938, 20.209063406351003, -0.008921629706393918), (0.12517516104155071, 53.873679310870095, 0.0019522550229891114), (0.0, 4.1657226578355696e-13, -48010877446.1515)]\n"
     ]
    }
   ],
   "source": [
    "\"\"\"\n",
    "Rebalancing\n",
    "\"\"\"\n",
    "def rebalance(asset_index, T):\n",
    "    predicts = []\n",
    "    actuals = []\n",
    "    \n",
    "    for i in range(T, len(asset_index), T):\n",
    "        \n",
    "        if i+T >= len(asset_index):\n",
    "            break\n",
    "        \n",
    "        historical_data = asset_index[i-T:i]\n",
    "        future_data = asset_index[i:i+T]\n",
    "        \n",
    "        predict, actual = tool.evaluate(historical_data, future_data, WEIGHT_CONSTRAINTS, MODEL_TYPE, TARGET_RETURN, RISK_FREE_RATE)\n",
    "        \n",
    "        predicts.append(predict)\n",
    "        actuals.append(actual)\n",
    "    \n",
    "    return predicts, actuals\n",
    "\n",
    "predicts, actuals = rebalance(asset_index, REBALANCE_DAYS)\n",
    "print(predicts)\n",
    "print(actuals)"
   ]
  },
  {
   "cell_type": "code",
   "execution_count": 15,
   "metadata": {},
   "outputs": [
    {
     "data": {
      "application/vnd.jupyter.widget-view+json": {
       "model_id": "3583a6296e0144d5a15ce7f224d9d45e",
       "version_major": 2,
       "version_minor": 0
      },
      "text/plain": [
       "interactive(children=(Checkbox(value=True, description='normalize'), SelectMultiple(description='Lines', index…"
      ]
     },
     "metadata": {},
     "output_type": "display_data"
    },
    {
     "data": {
      "text/plain": [
       "<function __main__.display(L1, L2, normalize=False, lines_to_show=None)>"
      ]
     },
     "execution_count": 15,
     "metadata": {},
     "output_type": "execute_result"
    }
   ],
   "source": [
    "\"\"\"\n",
    "Output\n",
    "\"\"\"\n",
    "\n",
    "def display(L1, L2, normalize=False, lines_to_show=None):\n",
    "    line_names = ['r1', 'v1', 's1', 'r2', 'v2', 's2']\n",
    "    line_styles = {\n",
    "        'r1': 'r-', 'v1': 'r--', 's1': 'r:',\n",
    "        'r2': 'b-', 'v2': 'b--', 's2': 'b:'\n",
    "    }\n",
    "\n",
    "    a1, b1, c1 = zip(*L1)\n",
    "    a2, b2, c2 = zip(*L2)\n",
    "\n",
    "    lines = {'r1': a1, 'v1': b1, 's1': c1, 'r2': a2, 'v2': b2, 's2': c2}\n",
    "\n",
    "    def normalize_data(data):\n",
    "        return (data - np.mean(data)) / np.std(data)\n",
    "\n",
    "    if normalize:\n",
    "        lines = {name: normalize_data(data) for name, data in lines.items()}\n",
    "\n",
    "    plt.figure(figsize=(10, 6))\n",
    "    for line in lines_to_show:\n",
    "        plt.plot(lines[line], line_styles[line], label=line, marker='o')\n",
    "    \n",
    "    plt.title(\"R: Return\\tV: Volatility\\tS: Sharpe Ratio\\n1: Predicted\\t2: Actual\\nButton 'normalize': Normalise each line\")\n",
    "    plt.legend()\n",
    "    \n",
    "    for pair in [('r1', 'r2'), ('v1', 'v2'), ('s1', 's2')]:\n",
    "        if pair[0] in lines_to_show and pair[1] in lines_to_show:\n",
    "            corr, _ = scipy.stats.spearmanr(lines[pair[0]], lines[pair[1]])\n",
    "            print(f\"Spearman correlation between {pair[0]} and {pair[1]}: {corr:.2f}\")\n",
    "    \n",
    "    plt.show()\n",
    "\n",
    "\n",
    "# @interact\n",
    "interact(display, \n",
    "         L1=fixed(predicts), \n",
    "         L2=fixed(actuals), \n",
    "         normalize=True, \n",
    "         lines_to_show=SelectMultiple(options=['r1', 'r2', 'v1', 'v2', 's1', 's2'],\n",
    "                                      value=['r1', 'r2', 'v1', 'v2', 's1', 's2'], \n",
    "                                      description='Lines'))\n",
    "\n"
   ]
  }
 ],
 "metadata": {
  "kernelspec": {
   "display_name": "Python 3",
   "language": "python",
   "name": "python3"
  },
  "language_info": {
   "codemirror_mode": {
    "name": "ipython",
    "version": 3
   },
   "file_extension": ".py",
   "mimetype": "text/x-python",
   "name": "python",
   "nbconvert_exporter": "python",
   "pygments_lexer": "ipython3",
   "version": "3.10.5"
  }
 },
 "nbformat": 4,
 "nbformat_minor": 2
}
