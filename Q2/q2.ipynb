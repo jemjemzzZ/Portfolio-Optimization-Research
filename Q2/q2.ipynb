{
 "cells": [
  {
   "cell_type": "code",
   "execution_count": 44,
   "metadata": {},
   "outputs": [],
   "source": [
    "import tool\n",
    "import scipy\n",
    "import pandas as pd\n",
    "import numpy as np\n",
    "%matplotlib widget\n",
    "import matplotlib.pyplot as plt\n",
    "from ipywidgets import interact, SelectMultiple, fixed\n",
    "import warnings\n",
    "warnings.filterwarnings('ignore')"
   ]
  },
  {
   "cell_type": "code",
   "execution_count": 45,
   "metadata": {},
   "outputs": [
    {
     "name": "stdout",
     "output_type": "stream",
     "text": [
      "['000037.SH', '930634.CSI', '931165.CSI', '931350.CSI', '931226CNY010.CSI', 'h30559.CSI', '930627.CSI', 'n99304.CSI', 'h00068.SH', 'h30547.CSI', '921460.SH', '000111.SH', '399698.SZ', '931135.CSI', '931845CNY01.CSI', '931845.SH', '931985.CSI', 'CN6004.CNI', '932117CNY010.CSI', '931239CNY100.CSI', '931780CNY01.CSI', 'h50029.SH']\n",
      "S_IRDCODE   000037.SH  930634.CSI  931165.CSI  931350.CSI  931226CNY010.CSI  \\\n",
      "TRADE_DT                                                                      \n",
      "2023-01-03  7228.4657    734.3433   5825.0322   1718.8475         4876.9426   \n",
      "2023-01-04  7271.5100    739.6267   5794.0012   1712.7720         4854.7112   \n",
      "2023-01-05  7434.7903    737.0686   5896.1423   1751.0670         4925.7176   \n",
      "2023-01-06  7375.7896    730.8736   5852.4387   1746.4723         4968.7322   \n",
      "2023-01-09  7430.7662    732.9373   5856.2466   1766.2999         5009.7616   \n",
      "...               ...         ...         ...         ...               ...   \n",
      "2023-12-20  6332.9390    717.8673   5969.0210   1537.0756         4405.7506   \n",
      "2023-12-21  6375.7588    717.8673   5969.0210   1537.0756         4405.7506   \n",
      "2023-12-22  6324.5664    717.8673   5969.0210   1537.0756         4405.7506   \n",
      "2023-12-25  6379.1600    717.8673   5969.0210   1537.0756         4405.7506   \n",
      "2023-12-26  6343.8281    717.8673   5969.0210   1537.0756         4405.7506   \n",
      "\n",
      "S_IRDCODE   h30559.CSI  930627.CSI  n99304.CSI  h00068.SH  h30547.CSI  ...  \\\n",
      "TRADE_DT                                                               ...   \n",
      "2023-01-03    730.1601   2107.1343   1944.0242  3456.9268   1745.3557  ...   \n",
      "2023-01-04    730.6500   2170.0839   1942.3939  3410.3498   1770.2134  ...   \n",
      "2023-01-05    737.0821   2189.4393   1930.3814  3430.8756   1779.0095  ...   \n",
      "2023-01-06    730.1592   2161.5005   1933.6513  3453.8761   1783.8165  ...   \n",
      "2023-01-09    733.2401   2216.6737   1940.8641  3517.6216   1792.2174  ...   \n",
      "...                ...         ...         ...        ...         ...  ...   \n",
      "2023-12-20    638.5522   1832.5939   1845.6911  3701.1335   1681.9727  ...   \n",
      "2023-12-21    638.5522   1832.5939   1845.6911  3701.1335   1681.9727  ...   \n",
      "2023-12-22    638.5522   1832.5939   1845.6911  3701.1335   1681.9727  ...   \n",
      "2023-12-25    638.5522   1832.5939   1845.6911  3701.1335   1681.9727  ...   \n",
      "2023-12-26    638.5522   1832.5939   1845.6911  3701.1335   1681.9727  ...   \n",
      "\n",
      "S_IRDCODE    399698.SZ  931135.CSI  931845CNY01.CSI  931845.SH  931985.CSI  \\\n",
      "TRADE_DT                                                                     \n",
      "2023-01-03  30587.4118   6857.0701        1747.4453  1563.1223    884.7354   \n",
      "2023-01-04  30909.3482   6969.4072        1751.4128  1566.6713    912.7405   \n",
      "2023-01-05  30933.4692   7009.1366        1753.6941  1568.7120    919.8214   \n",
      "2023-01-06  30729.8906   7006.4726        1742.5323  1558.7275    927.5166   \n",
      "2023-01-09  31022.2656   7143.2447        1770.3167  1583.5811    922.0096   \n",
      "...                ...         ...              ...        ...         ...   \n",
      "2023-12-20  37116.9954   5976.9877        1550.4904  1369.5136    618.3362   \n",
      "2023-12-21  37116.9954   5976.9877        1550.4904  1369.5136    618.3362   \n",
      "2023-12-22  37116.9954   5976.9877        1550.4904  1369.5136    618.3362   \n",
      "2023-12-25  37116.9954   5976.9877        1550.4904  1369.5136    618.3362   \n",
      "2023-12-26  37116.9954   5976.9877        1550.4904  1369.5136    618.3362   \n",
      "\n",
      "S_IRDCODE   CN6004.CNI  932117CNY010.CSI  931239CNY100.CSI  931780CNY01.CSI  \\\n",
      "TRADE_DT                                                                      \n",
      "2023-01-03   3324.9350          863.5110         1637.1447        1970.7818   \n",
      "2023-01-04   3338.7139          877.4643         1631.4753        2000.6289   \n",
      "2023-01-05   3348.8813          882.8588         1681.1360        2039.0223   \n",
      "2023-01-06   3352.7156          882.8500         1640.5257        2017.1843   \n",
      "2023-01-09   3377.0310          883.6883         1627.5052        2031.8081   \n",
      "...                ...               ...               ...              ...   \n",
      "2023-12-20   3118.9900          798.4171         1711.9815        1788.1498   \n",
      "2023-12-21   3118.9900          798.4171         1711.9815        1788.1498   \n",
      "2023-12-22   3118.9900          798.4171         1711.9815        1788.1498   \n",
      "2023-12-25   3118.9900          798.4171         1711.9815        1788.1498   \n",
      "2023-12-26   3118.9900          798.4171         1711.9815        1788.1498   \n",
      "\n",
      "S_IRDCODE    h50029.SH  \n",
      "TRADE_DT                \n",
      "2023-01-03   8912.9992  \n",
      "2023-01-04   8995.4720  \n",
      "2023-01-05   8994.7221  \n",
      "2023-01-06   8902.8456  \n",
      "2023-01-09   8947.8622  \n",
      "...                ...  \n",
      "2023-12-20  11659.5211  \n",
      "2023-12-21  11659.5211  \n",
      "2023-12-22  11659.5211  \n",
      "2023-12-25  11659.5211  \n",
      "2023-12-26  11659.5211  \n",
      "\n",
      "[250 rows x 22 columns]\n"
     ]
    }
   ],
   "source": [
    "\"\"\"\n",
    "Data initialisation\n",
    "\"\"\"\n",
    "\n",
    "asset_index = pd.read_csv(\"data/AIDX.csv\", encoding='gbk')\n",
    "\n",
    "num_limit = (20, 30)\n",
    "index_list = asset_index['S_IRDCODE'].drop_duplicates().sample(np.random.randint(*num_limit)).tolist()\n",
    "\n",
    "asset_index['TRADE_DT'] = pd.to_datetime(asset_index['TRADE_DT'], format='%Y%m%d')\n",
    "asset_index.sort_values(by='TRADE_DT', inplace=True)\n",
    "asset_index.set_index('TRADE_DT', inplace=True)\n",
    "asset_index = asset_index.pivot(columns='S_IRDCODE', values='CLOSE').ffill()[index_list].dropna()\n",
    "\n",
    "print(index_list)\n",
    "print(asset_index)"
   ]
  },
  {
   "cell_type": "code",
   "execution_count": 46,
   "metadata": {},
   "outputs": [],
   "source": [
    "\"\"\"\n",
    "Parameters\n",
    "\"\"\"\n",
    "BACKTEST_DAY = 30\n",
    "MODEL_TYPE = 'BL' # MVO, RP, BL, RB\n",
    "TARGET_RETURN = 0.0 # target return\n",
    "RISK_FREE_RATE = 0.02 # risk-free rate\n",
    "REBALANCE_DAYS = 30\n",
    "\n",
    "N = len(index_list)\n",
    "index_min_weight = [0 for _ in range(N)]\n",
    "index_max_weight = [1 for _ in range(N)]\n",
    "WEIGHT_CONSTRAINTS = list(zip(index_min_weight, index_max_weight))"
   ]
  },
  {
   "cell_type": "code",
   "execution_count": 47,
   "metadata": {},
   "outputs": [
    {
     "name": "stdout",
     "output_type": "stream",
     "text": [
      "[(0.06677647520352589, 12.151379614083385, 0.003849478552156514), (-0.21541495935108607, 21.684426056223433, -0.010856407208597617), (0.92053767059139, 61.33328519684508, 0.014682690935291898), (0.15440054245001722, 68.62423077377287, 0.0019584998029789657), (0.019354659526145866, 15.252685280448096, -4.2309958016466414e-05), (-0.025841076154175406, 16.319779461530754, -0.0028089274283535953), (-0.04168234721561069, 14.419555842049164, -0.0042776870446825785)]\n",
      "[(-0.06305509991142702, 24.45915794301569, -0.0033956647283167572), (0.26326681693115617, 28.210194157128164, 0.00862336556693593), (-0.09513682002402524, 34.30414855133989, -0.003356352653723804), (0.07141097038626977, 90.89970643049618, 0.0005655790585592229), (0.015370960039869232, 24.2897315325426, -0.00019057600344116318), (-0.049489986551150555, 10.267362613636502, -0.006768046397704712), (0.008391106462823667, 14.477625695667387, -0.0008018506474200698)]\n",
      "[(0.04275472939670015, 54.82441075494544, 0.0004150474046754357), (0.9845379807015718, 64.67226757881089, 0.01491424403089264), (0.053087522275670165, 50.925411471985036, 0.0006497251827581636), (0.31252200080418185, 46.92177220052668, 0.006234248773768574), (-0.39249832669766394, 104.0857326607165, -0.003963063103396369), (-0.18614343689244447, 70.14029726406346, -0.0029390157289519003), (0.02606258135205261, 34.98395710031511, 0.00017329604351698692)]\n"
     ]
    }
   ],
   "source": [
    "\"\"\"\n",
    "Rebalancing\n",
    "\"\"\"\n",
    "def rebalance(asset_index, T):\n",
    "    predicts = []\n",
    "    actuals = []\n",
    "    realities = []\n",
    "    \n",
    "    for i in range(T, len(asset_index), T):\n",
    "        \n",
    "        if i+T >= len(asset_index):\n",
    "            break\n",
    "        \n",
    "        historical_data = asset_index[i-T:i]\n",
    "        future_data = asset_index[i:i+T]\n",
    "        \n",
    "        predict, actual = tool.evaluate(historical_data, future_data, WEIGHT_CONSTRAINTS, MODEL_TYPE, TARGET_RETURN, RISK_FREE_RATE)\n",
    "        predicts.append(predict)\n",
    "        actuals.append(actual)\n",
    "        \n",
    "        reality = tool.check([1 / N for _ in range(N)], future_data, RISK_FREE_RATE)  # equally weighed\n",
    "        realities.append(reality)\n",
    "    \n",
    "    return predicts, actuals, realities\n",
    "\n",
    "predicts, actuals, realities = rebalance(asset_index, REBALANCE_DAYS)\n",
    "print(predicts)\n",
    "print(actuals)\n",
    "print(realities)"
   ]
  },
  {
   "cell_type": "code",
   "execution_count": 48,
   "metadata": {},
   "outputs": [
    {
     "data": {
      "application/vnd.jupyter.widget-view+json": {
       "model_id": "67a35333dd6547af80ee475f28230908",
       "version_major": 2,
       "version_minor": 0
      },
      "text/plain": [
       "interactive(children=(Checkbox(value=True, description='normalize'), SelectMultiple(description='Lines', index…"
      ]
     },
     "metadata": {},
     "output_type": "display_data"
    },
    {
     "data": {
      "text/plain": [
       "<function __main__.display(L1, L2, L3, normalize=False, lines_to_show=None)>"
      ]
     },
     "execution_count": 48,
     "metadata": {},
     "output_type": "execute_result"
    }
   ],
   "source": [
    "\"\"\"\n",
    "Output\n",
    "\"\"\"\n",
    "\n",
    "def display(L1, L2, L3, normalize=False, lines_to_show=None):\n",
    "    line_names = ['r1', 'v1', 's1', 'r2', 'v2', 's2', 'r3', 'v3', 's3']\n",
    "    line_styles = {\n",
    "        'r1': 'r-', 'v1': 'r--', 's1': 'r:',\n",
    "        'r2': 'b-', 'v2': 'b--', 's2': 'b:',\n",
    "        'r3': 'g-', 'v3': 'g--', 's3': 'g:'\n",
    "    }\n",
    "\n",
    "    a1, b1, c1 = zip(*L1)\n",
    "    a2, b2, c2 = zip(*L2)\n",
    "    a3, b3, c3 = zip(*L3)\n",
    "\n",
    "    lines = {'r1': a1, 'v1': b1, 's1': c1, \n",
    "             'r2': a2, 'v2': b2, 's2': c2,\n",
    "             'r3': a3, 'v3': b3, 's3': c3}\n",
    "\n",
    "    def normalize_data(data):\n",
    "        return (data - np.mean(data)) / np.std(data)\n",
    "\n",
    "    if normalize:\n",
    "        lines = {name: normalize_data(data) for name, data in lines.items()}\n",
    "\n",
    "    plt.figure(figsize=(10, 6))\n",
    "    for line in lines_to_show:\n",
    "        plt.plot(lines[line], line_styles[line], label=line, marker='o')\n",
    "    \n",
    "    plt.title(\"R: Return\\tV: Volatility\\tS: Sharpe Ratio\\n1: Predicted\\t2: Actual\\t3: Reality (Equally Weighed)\\nButton 'normalize': Normalise each line\")\n",
    "    plt.legend()\n",
    "    \n",
    "    for pair in [('r1', 'r2'), ('v1', 'v2'), ('s1', 's2')]:\n",
    "        if pair[0] in lines_to_show and pair[1] in lines_to_show:\n",
    "            corr, _ = scipy.stats.spearmanr(lines[pair[0]], lines[pair[1]])\n",
    "            print(f\"Spearman correlation between {pair[0]} and {pair[1]}: {corr:.2f}\")\n",
    "    \n",
    "    plt.show()\n",
    "\n",
    "\n",
    "# @interact\n",
    "interact(display, \n",
    "         L1=fixed(predicts), \n",
    "         L2=fixed(actuals),\n",
    "         L3=fixed(realities), \n",
    "         normalize=True, \n",
    "         lines_to_show=SelectMultiple(options=['r1', 'r2', 'r3', 'v1', 'v2', 'v3', 's1', 's2', 's3'],\n",
    "                                      value=['r1', 'r2', 'r3', 'v1', 'v2', 'v3', 's1', 's2', 's3'], \n",
    "                                      description='Lines'))\n",
    "\n"
   ]
  }
 ],
 "metadata": {
  "kernelspec": {
   "display_name": "Python 3",
   "language": "python",
   "name": "python3"
  },
  "language_info": {
   "codemirror_mode": {
    "name": "ipython",
    "version": 3
   },
   "file_extension": ".py",
   "mimetype": "text/x-python",
   "name": "python",
   "nbconvert_exporter": "python",
   "pygments_lexer": "ipython3",
   "version": "3.10.5"
  }
 },
 "nbformat": 4,
 "nbformat_minor": 2
}
