{
 "cells": [
  {
   "cell_type": "code",
   "execution_count": 21,
   "metadata": {},
   "outputs": [],
   "source": [
    "import tool\n",
    "import scipy\n",
    "import pandas as pd\n",
    "import numpy as np\n",
    "%matplotlib widget\n",
    "import matplotlib.pyplot as plt\n",
    "from ipywidgets import interact, SelectMultiple, fixed\n",
    "import warnings\n",
    "warnings.filterwarnings('ignore')"
   ]
  },
  {
   "cell_type": "code",
   "execution_count": 22,
   "metadata": {},
   "outputs": [
    {
     "name": "stdout",
     "output_type": "stream",
     "text": [
      "['000841.CSI', 'n00905.CSI', 'h30253.CSI', 'h20556.CSI', 'h40098.SH', 'h40037.SH', 'h20496.CSI', '000904.CSI']\n",
      "S_IRDCODE   000841.CSI  n00905.CSI  h30253.CSI  h20556.CSI  h40098.SH  \\\n",
      "TRADE_DT                                                                \n",
      "2023-01-03   9611.9678   6851.9274   3720.1662   1922.7936  7802.9055   \n",
      "2023-01-04   9679.3683   6847.9662   3741.5124   1926.9373  7836.4019   \n",
      "2023-01-05   9960.3645   6914.7039   3790.4024   1946.0585  7920.1189   \n",
      "2023-01-06   9864.4389   6917.4087   3813.2324   1921.8768  7921.0884   \n",
      "2023-01-09   9952.3246   6948.7055   3822.1741   1931.0004  7972.3173   \n",
      "...                ...         ...         ...         ...        ...   \n",
      "2023-12-20   9260.6286   6640.8475   3865.8508   1718.5113  8311.9133   \n",
      "2023-12-21   9260.6286   6640.8475   3865.8508   1718.5113  8311.9133   \n",
      "2023-12-22   9260.6286   6640.8475   3865.8508   1718.5113  8311.9133   \n",
      "2023-12-25   9260.6286   6640.8475   3865.8508   1718.5113  8311.9133   \n",
      "2023-12-26   9260.6286   6640.8475   3865.8508   1718.5113  8311.9133   \n",
      "\n",
      "S_IRDCODE   h40037.SH  h20496.CSI  000904.CSI  \n",
      "TRADE_DT                                       \n",
      "2023-01-03  2551.3832  13224.8041   4518.9521  \n",
      "2023-01-04  2557.0826  13480.6849   4523.7726  \n",
      "2023-01-05  2589.5254  13791.0432   4589.4117  \n",
      "2023-01-06  2593.4303  13643.9265   4589.4895  \n",
      "2023-01-09  2608.5941  13995.0924   4625.1729  \n",
      "...               ...         ...         ...  \n",
      "2023-12-20  2490.3263  10636.0266   4195.3785  \n",
      "2023-12-21  2490.3263  10636.0266   4195.3785  \n",
      "2023-12-22  2490.3263  10636.0266   4195.3785  \n",
      "2023-12-25  2490.3263  10636.0266   4195.3785  \n",
      "2023-12-26  2490.3263  10636.0266   4195.3785  \n",
      "\n",
      "[250 rows x 8 columns]\n"
     ]
    }
   ],
   "source": [
    "\"\"\"\n",
    "Data initialisation\n",
    "\"\"\"\n",
    "\n",
    "asset_index = pd.read_csv(\"data/AIDX.csv\", encoding='gbk')\n",
    "\n",
    "index_list = asset_index['S_IRDCODE'].drop_duplicates().sample(np.random.randint(*(5, 10))).tolist()\n",
    "\n",
    "asset_index['TRADE_DT'] = pd.to_datetime(asset_index['TRADE_DT'], format='%Y%m%d')\n",
    "asset_index.sort_values(by='TRADE_DT', inplace=True)\n",
    "asset_index.set_index('TRADE_DT', inplace=True)\n",
    "asset_index = asset_index.pivot(columns='S_IRDCODE', values='CLOSE').ffill()[index_list].dropna()\n",
    "\n",
    "print(index_list)\n",
    "print(asset_index)"
   ]
  },
  {
   "cell_type": "code",
   "execution_count": 23,
   "metadata": {},
   "outputs": [],
   "source": [
    "\"\"\"\n",
    "Parameters\n",
    "\"\"\"\n",
    "BACKTEST_DAY = 30\n",
    "MODEL_TYPE = 'BL' # MVO, RP\n",
    "TARGET_RETURN = 0.0 # target return\n",
    "RISK_FREE_RATE = 0.02 # risk-free rate\n",
    "REBALANCE_DAYS = 20\n",
    "\n",
    "n = len(index_list)\n",
    "index_min_weight = [0 for _ in range(n)]\n",
    "index_max_weight = [1 for _ in range(n)]\n",
    "WEIGHT_CONSTRAINTS = list(zip(index_min_weight, index_max_weight))"
   ]
  },
  {
   "cell_type": "code",
   "execution_count": 24,
   "metadata": {},
   "outputs": [
    {
     "name": "stdout",
     "output_type": "stream",
     "text": [
      "[(1.2832922730595708, 177.08622336045525, 0.007133769353069133), (-0.06263304055164529, 74.36444513306091, -0.0011111901716443833), (-0.14858038831763312, 95.56780915453639, -0.0017639871606246922), (-0.01545741624430215, 96.29235416590824, -0.00036822670451290774), (-0.023819535264056918, 63.78792331618421, -0.0006869566053569747), (0.021919215328120578, 63.3354038590306, 3.0302409255845124e-05), (-0.06170278668279294, 57.072939575547665, -0.0014315503510142957), (-0.04892255849817917, 81.72130333130745, -0.0008433854538364285), (-0.200244083580997, 73.63471502212865, -0.002991036001358998), (-0.01136991023143305, 33.38749298529466, -0.0009395707022761417), (0.07320893509711843, 44.00956064099366, 0.0012090312723448506)]\n",
      "[(-0.06263304055164529, 74.36444513306091, -0.0011111901716443833), (-0.14858038831763312, 95.56780915453639, -0.0017639871606246922), (-0.01545741624430215, 96.29235416590824, -0.00036822670451290774), (-0.023819535264056918, 63.78792331618421, -0.0006869566053569747), (0.021919215328120578, 63.3354038590306, 3.0302409255845124e-05), (-0.06170278668279294, 57.072939575547665, -0.0014315503510142957), (-0.04892255849817917, 81.72130333130745, -0.0008433854538364285), (-0.200244083580997, 73.63471502212865, -0.002991036001358998), (-0.01136991023143305, 33.38749298529466, -0.0009395707022761417), (0.07320893509711843, 44.00956064099366, 0.0012090312723448506), (-0.02760159954670223, 7.054335630419278, -0.006747850122332925)]\n"
     ]
    }
   ],
   "source": [
    "\"\"\"\n",
    "Rebalancing\n",
    "\"\"\"\n",
    "def rebalance(asset_index, T):\n",
    "    predicts = []\n",
    "    actuals = []\n",
    "    \n",
    "    for i in range(T, len(asset_index), T):\n",
    "        \n",
    "        if i+T >= len(asset_index):\n",
    "            break\n",
    "        \n",
    "        historical_data = asset_index[i-T:i]\n",
    "        future_data = asset_index[i:i+T]\n",
    "        \n",
    "        predict, actual = tool.evaluate(historical_data, future_data, WEIGHT_CONSTRAINTS, MODEL_TYPE, TARGET_RETURN, RISK_FREE_RATE)\n",
    "        \n",
    "        predicts.append(predict)\n",
    "        actuals.append(actual)\n",
    "    \n",
    "    return predicts, actuals\n",
    "\n",
    "predicts, actuals = rebalance(asset_index, REBALANCE_DAYS)\n",
    "print(predicts)\n",
    "print(actuals)"
   ]
  },
  {
   "cell_type": "code",
   "execution_count": 25,
   "metadata": {},
   "outputs": [
    {
     "data": {
      "application/vnd.jupyter.widget-view+json": {
       "model_id": "8d97d16ad404440a823944625f0c9f8f",
       "version_major": 2,
       "version_minor": 0
      },
      "text/plain": [
       "interactive(children=(Checkbox(value=True, description='normalize'), SelectMultiple(description='Lines', index…"
      ]
     },
     "metadata": {},
     "output_type": "display_data"
    },
    {
     "data": {
      "text/plain": [
       "<function __main__.display(L1, L2, normalize=False, lines_to_show=None)>"
      ]
     },
     "execution_count": 25,
     "metadata": {},
     "output_type": "execute_result"
    }
   ],
   "source": [
    "\"\"\"\n",
    "Output\n",
    "\"\"\"\n",
    "\n",
    "def display(L1, L2, normalize=False, lines_to_show=None):\n",
    "    line_names = ['r1', 'v1', 's1', 'r2', 'v2', 's2']\n",
    "    line_styles = {\n",
    "        'r1': 'r-', 'v1': 'r--', 's1': 'r:',\n",
    "        'r2': 'b-', 'v2': 'b--', 's2': 'b:'\n",
    "    }\n",
    "\n",
    "    a1, b1, c1 = zip(*L1)\n",
    "    a2, b2, c2 = zip(*L2)\n",
    "\n",
    "    lines = {'r1': a1, 'v1': b1, 's1': c1, 'r2': a2, 'v2': b2, 's2': c2}\n",
    "\n",
    "    def normalize_data(data):\n",
    "        return (data - np.mean(data)) / np.std(data)\n",
    "\n",
    "    if normalize:\n",
    "        lines = {name: normalize_data(data) for name, data in lines.items()}\n",
    "\n",
    "    plt.figure(figsize=(10, 6))\n",
    "    for line in lines_to_show:\n",
    "        plt.plot(lines[line], line_styles[line], label=line, marker='o')\n",
    "    \n",
    "    plt.title(\"R: Return\\tV: Volatility\\tS: Sharpe Ratio\\n1: Predicted\\t2: Actual\\nButton 'normalize': Normalise each line\")\n",
    "    plt.legend()\n",
    "    \n",
    "    for pair in [('r1', 'r2'), ('v1', 'v2'), ('s1', 's2')]:\n",
    "        if pair[0] in lines_to_show and pair[1] in lines_to_show:\n",
    "            corr, _ = scipy.stats.spearmanr(lines[pair[0]], lines[pair[1]])\n",
    "            print(f\"Spearman correlation between {pair[0]} and {pair[1]}: {corr:.2f}\")\n",
    "    \n",
    "    plt.show()\n",
    "\n",
    "\n",
    "# @interact\n",
    "interact(display, \n",
    "         L1=fixed(predicts), \n",
    "         L2=fixed(actuals), \n",
    "         normalize=True, \n",
    "         lines_to_show=SelectMultiple(options=['r1', 'r2', 'v1', 'v2', 's1', 's2'],\n",
    "                                      value=['r1', 'r2', 'v1', 'v2', 's1', 's2'], \n",
    "                                      description='Lines'))\n",
    "\n"
   ]
  }
 ],
 "metadata": {
  "kernelspec": {
   "display_name": "Python 3",
   "language": "python",
   "name": "python3"
  },
  "language_info": {
   "codemirror_mode": {
    "name": "ipython",
    "version": 3
   },
   "file_extension": ".py",
   "mimetype": "text/x-python",
   "name": "python",
   "nbconvert_exporter": "python",
   "pygments_lexer": "ipython3",
   "version": "3.10.5"
  }
 },
 "nbformat": 4,
 "nbformat_minor": 2
}
