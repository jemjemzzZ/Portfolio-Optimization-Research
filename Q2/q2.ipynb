{
 "cells": [
  {
   "cell_type": "code",
   "execution_count": 82,
   "metadata": {},
   "outputs": [],
   "source": [
    "import tool\n",
    "import scipy\n",
    "import pandas as pd\n",
    "import numpy as np\n",
    "%matplotlib widget\n",
    "import matplotlib.pyplot as plt\n",
    "from ipywidgets import interact, SelectMultiple, fixed\n",
    "import warnings\n",
    "warnings.filterwarnings('ignore')"
   ]
  },
  {
   "cell_type": "code",
   "execution_count": 83,
   "metadata": {},
   "outputs": [
    {
     "name": "stdout",
     "output_type": "stream",
     "text": [
      "['h30258.CSI', '000970.CSI', '931590.CSI', 'L01177.CSI', 'h50014.SH', 'h00964.CSI', 'CN2618.CNI', 'h11159.CSI']\n",
      "S_IRDCODE   h30258.CSI  000970.CSI  931590.CSI  L01177.CSI  h50014.SH  \\\n",
      "TRADE_DT                                                                \n",
      "2023-01-03   3198.2107   1470.0032  22533.9280   4266.7012  3213.5575   \n",
      "2023-01-04   3218.3648   1475.9357  22450.4631   4224.3211  3206.2781   \n",
      "2023-01-05   3225.2544   1487.0431  22736.2518   4268.1777  3234.8556   \n",
      "2023-01-06   3186.6049   1483.8890  22863.0196   4231.5040  3245.0828   \n",
      "2023-01-09   3207.2135   1491.2535  23010.0439   4271.5311  3290.3362   \n",
      "...                ...         ...         ...         ...        ...   \n",
      "2023-12-20   4341.2806   1411.5728  19966.2309   4422.7680  3282.4433   \n",
      "2023-12-21   4341.2806   1411.5728  19966.2309   4422.7680  3282.4433   \n",
      "2023-12-22   4341.2806   1411.5728  19966.2309   4422.7680  3282.4433   \n",
      "2023-12-25   4341.2806   1411.5728  19966.2309   4422.7680  3282.4433   \n",
      "2023-12-26   4341.2806   1411.5728  19966.2309   4422.7680  3282.4433   \n",
      "\n",
      "S_IRDCODE   h00964.CSI  CN2618.CNI  h11159.CSI  \n",
      "TRADE_DT                                        \n",
      "2023-01-03  10187.2282  13464.1804    991.0094  \n",
      "2023-01-04  10102.7037  13541.8043   1001.3170  \n",
      "2023-01-05  10311.7595  13836.2043   1021.8976  \n",
      "2023-01-06  10386.0914  13712.8624   1011.4518  \n",
      "2023-01-09  10437.4230  13823.7513   1039.5943  \n",
      "...                ...         ...         ...  \n",
      "2023-12-20   9248.6655  11503.1802    770.1824  \n",
      "2023-12-21   9248.6655  11503.1802    770.1824  \n",
      "2023-12-22   9248.6655  11503.1802    770.1824  \n",
      "2023-12-25   9248.6655  11503.1802    770.1824  \n",
      "2023-12-26   9248.6655  11503.1802    770.1824  \n",
      "\n",
      "[250 rows x 8 columns]\n"
     ]
    }
   ],
   "source": [
    "\"\"\"\n",
    "Data initialisation\n",
    "\"\"\"\n",
    "\n",
    "asset_index = pd.read_csv(\"data/AIDX.csv\", encoding='gbk')\n",
    "\n",
    "index_list = asset_index['S_IRDCODE'].drop_duplicates().sample(np.random.randint(*(5, 10))).tolist()\n",
    "\n",
    "asset_index['TRADE_DT'] = pd.to_datetime(asset_index['TRADE_DT'], format='%Y%m%d')\n",
    "asset_index.sort_values(by='TRADE_DT', inplace=True)\n",
    "asset_index.set_index('TRADE_DT', inplace=True)\n",
    "asset_index = asset_index.pivot(columns='S_IRDCODE', values='CLOSE').ffill()[index_list].dropna()\n",
    "\n",
    "print(index_list)\n",
    "print(asset_index)"
   ]
  },
  {
   "cell_type": "code",
   "execution_count": 84,
   "metadata": {},
   "outputs": [],
   "source": [
    "\"\"\"\n",
    "Parameters\n",
    "\"\"\"\n",
    "BACKTEST_DAY = 30\n",
    "MODEL_TYPE = 'RB' # MVO, RP, BL, RB\n",
    "TARGET_RETURN = 0.0 # target return\n",
    "RISK_FREE_RATE = 0.02 # risk-free rate\n",
    "REBALANCE_DAYS = 30\n",
    "\n",
    "N = len(index_list)\n",
    "index_min_weight = [0 for _ in range(N)]\n",
    "index_max_weight = [1 for _ in range(N)]\n",
    "WEIGHT_CONSTRAINTS = list(zip(index_min_weight, index_max_weight))"
   ]
  },
  {
   "cell_type": "code",
   "execution_count": 85,
   "metadata": {},
   "outputs": [
    {
     "name": "stdout",
     "output_type": "stream",
     "text": [
      "[(0.6801872028753819, 268.08187101403917, 0.002462632778479857), (5.854691731421724e-17, 238.91012589719875, -8.371348817841984e-05), (1.3877787807814457e-17, 66.6835299850663, -0.00029992413425742405), (2.0817739931858625e-17, 155.252678731554, -0.0001288222539115206), (2.4286128563351297e-17, 109.3808256521437, -0.00018284740383661574), (6.938894041681362e-18, 129.03740802646487, -0.0001549938138551117), (-4.1633365090697756e-17, 26.071924288886315, -0.0007671087020042263)]\n",
      "[(0.32665802166009805, 158.4875894617065, 0.0019349024280175087), (0.08413931726814415, 264.49469980007916, 0.00024249755218771666), (-0.21435637548221304, 76.88830063079823, -0.0030480108619846346), (-0.08443132546910805, 132.6534889881411, -0.0007872489918334825), (-0.33409968655094824, 273.0063629695603, -0.0012970382180814946), (-0.16886820399696023, 108.38112196103627, -0.0017426300870446755), (2.533475722963517e-25, 3.601743312125242e-13, -55528665612.20548)]\n",
      "[(0.5353635438538611, 101.74662824767216, 0.005065165821508704), (0.2599240133915443, 148.54983670563115, 0.001615107890471679), (0.21048306231900366, 93.96515958767247, 0.0020271669111706974), (-0.0976729639721438, 81.67596056295199, -0.0014407294773282405), (-0.3330945787444431, 178.19627739113372, -0.001981492452670123), (-0.11621203132428108, 59.931446522874964, -0.002272797324728195), (-0.01240425973374501, 1.1003670193754482, -0.02944859229981028)]\n"
     ]
    }
   ],
   "source": [
    "\"\"\"\n",
    "Rebalancing\n",
    "\"\"\"\n",
    "def rebalance(asset_index, T):\n",
    "    predicts = []\n",
    "    actuals = []\n",
    "    realities = []\n",
    "    \n",
    "    for i in range(T, len(asset_index), T):\n",
    "        \n",
    "        if i+T >= len(asset_index):\n",
    "            break\n",
    "        \n",
    "        historical_data = asset_index[i-T:i]\n",
    "        future_data = asset_index[i:i+T]\n",
    "        \n",
    "        predict, actual = tool.evaluate(historical_data, future_data, WEIGHT_CONSTRAINTS, MODEL_TYPE, TARGET_RETURN, RISK_FREE_RATE)\n",
    "        predicts.append(predict)\n",
    "        actuals.append(actual)\n",
    "        \n",
    "        reality = tool.check([1 / N for _ in range(N)], future_data, RISK_FREE_RATE)  # equally weighed\n",
    "        realities.append(reality)\n",
    "    \n",
    "    return predicts, actuals, realities\n",
    "\n",
    "predicts, actuals, realities = rebalance(asset_index, REBALANCE_DAYS)\n",
    "print(predicts)\n",
    "print(actuals)\n",
    "print(realities)"
   ]
  },
  {
   "cell_type": "code",
   "execution_count": 88,
   "metadata": {},
   "outputs": [
    {
     "data": {
      "application/vnd.jupyter.widget-view+json": {
       "model_id": "762fd905c0e84551992d2d64f868536c",
       "version_major": 2,
       "version_minor": 0
      },
      "text/plain": [
       "interactive(children=(Checkbox(value=True, description='normalize'), SelectMultiple(description='Lines', index…"
      ]
     },
     "metadata": {},
     "output_type": "display_data"
    },
    {
     "data": {
      "text/plain": [
       "<function __main__.display(L1, L2, L3, normalize=False, lines_to_show=None)>"
      ]
     },
     "execution_count": 88,
     "metadata": {},
     "output_type": "execute_result"
    }
   ],
   "source": [
    "\"\"\"\n",
    "Output\n",
    "\"\"\"\n",
    "\n",
    "def display(L1, L2, L3, normalize=False, lines_to_show=None):\n",
    "    line_names = ['r1', 'v1', 's1', 'r2', 'v2', 's2', 'r3', 'v3', 's3']\n",
    "    line_styles = {\n",
    "        'r1': 'r-', 'v1': 'r--', 's1': 'r:',\n",
    "        'r2': 'b-', 'v2': 'b--', 's2': 'b:',\n",
    "        'r3': 'g-', 'v3': 'g--', 's3': 'g:'\n",
    "    }\n",
    "\n",
    "    a1, b1, c1 = zip(*L1)\n",
    "    a2, b2, c2 = zip(*L2)\n",
    "    a3, b3, c3 = zip(*L3)\n",
    "\n",
    "    lines = {'r1': a1, 'v1': b1, 's1': c1, \n",
    "             'r2': a2, 'v2': b2, 's2': c2,\n",
    "             'r3': a3, 'v3': b3, 's3': c3}\n",
    "\n",
    "    def normalize_data(data):\n",
    "        return (data - np.mean(data)) / np.std(data)\n",
    "\n",
    "    if normalize:\n",
    "        lines = {name: normalize_data(data) for name, data in lines.items()}\n",
    "\n",
    "    plt.figure(figsize=(10, 6))\n",
    "    for line in lines_to_show:\n",
    "        plt.plot(lines[line], line_styles[line], label=line, marker='o')\n",
    "    \n",
    "    plt.title(\"R: Return\\tV: Volatility\\tS: Sharpe Ratio\\n1: Predicted\\t2: Actual\\t3: Reality\\nButton 'normalize': Normalise each line\")\n",
    "    plt.legend()\n",
    "    \n",
    "    for pair in [('r1', 'r2'), ('v1', 'v2'), ('s1', 's2')]:\n",
    "        if pair[0] in lines_to_show and pair[1] in lines_to_show:\n",
    "            corr, _ = scipy.stats.spearmanr(lines[pair[0]], lines[pair[1]])\n",
    "            print(f\"Spearman correlation between {pair[0]} and {pair[1]}: {corr:.2f}\")\n",
    "    \n",
    "    plt.show()\n",
    "\n",
    "\n",
    "# @interact\n",
    "interact(display, \n",
    "         L1=fixed(predicts), \n",
    "         L2=fixed(actuals),\n",
    "         L3=fixed(realities), \n",
    "         normalize=True, \n",
    "         lines_to_show=SelectMultiple(options=['r1', 'r2', 'r3', 'v1', 'v2', 'v3', 's1', 's2', 's3'],\n",
    "                                      value=['r1', 'r2', 'r3', 'v1', 'v2', 'v3', 's1', 's2', 's3'], \n",
    "                                      description='Lines'))\n",
    "\n"
   ]
  }
 ],
 "metadata": {
  "kernelspec": {
   "display_name": "Python 3",
   "language": "python",
   "name": "python3"
  },
  "language_info": {
   "codemirror_mode": {
    "name": "ipython",
    "version": 3
   },
   "file_extension": ".py",
   "mimetype": "text/x-python",
   "name": "python",
   "nbconvert_exporter": "python",
   "pygments_lexer": "ipython3",
   "version": "3.10.5"
  }
 },
 "nbformat": 4,
 "nbformat_minor": 2
}
