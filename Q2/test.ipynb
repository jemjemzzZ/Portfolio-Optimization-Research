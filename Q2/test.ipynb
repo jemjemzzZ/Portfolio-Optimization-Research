{
 "cells": [
  {
   "cell_type": "code",
   "execution_count": 12,
   "metadata": {},
   "outputs": [
    {
     "name": "stdout",
     "output_type": "stream",
     "text": [
      "Forecasted next step volatility: 0.9036410693300078\n",
      "\n",
      "\n",
      "Forecasted next step volatility: 0.9470031061102598\n",
      "\n",
      "\n",
      "Forecasted next step volatility: 1.0788465824427975\n",
      "\n",
      "\n",
      "Forecasted next step volatility: 1.0283839781291773\n",
      "\n",
      "\n",
      "Forecasted next step volatility: 1.0848443075829795\n",
      "\n",
      "\n",
      "[0.9036410693300078, 0.9470031061102598, 1.0788465824427975, 1.0283839781291773, 1.0848443075829795]\n",
      "[0.90364107 0.94700311 1.07884658 1.02838398 1.08484431]\n",
      "normalised risk:  [0.17919719 0.18779613 0.21394144 0.20393442 0.21513082]\n"
     ]
    }
   ],
   "source": [
    "import numpy as np\n",
    "import pandas as pd\n",
    "from arch import arch_model\n",
    "\n",
    "# Example: Load your time series data\n",
    "# For this example, we'll just generate some random data\n",
    "num_assets = 5  # Number of assets\n",
    "num_days = 100  # Number of days\n",
    "np.random.seed(42)\n",
    "returns = [np.random.normal(0, 1, num_days) for _ in range(num_assets)]\n",
    "\n",
    "# If you prefer to have this data in a NumPy array where each column represents an asset:\n",
    "returns_array = np.array(returns).T\n",
    "\n",
    "future_vols = []\n",
    "for i in range(num_assets):\n",
    "    asset_returns = returns_array[:, i]\n",
    "    model = arch_model(asset_returns, vol='Garch', p=1, q=1)\n",
    "    res = model.fit(update_freq=5, disp='off')\n",
    "\n",
    "    # print(f\"Asset {i+1} GARCH Model Summary:\")\n",
    "    # print(res.summary())\n",
    "    forecast = res.forecast(horizon=1)\n",
    "    # print(forecast.variance)\n",
    "    # Extract the forecast variance\n",
    "    future_vol = forecast.variance.iloc[-1, -1]**0.5\n",
    "    print(\"Forecasted next step volatility:\", future_vol)\n",
    "    print(\"\\n\")\n",
    "    future_vols.append(future_vol)\n",
    "\n",
    "print(future_vols)\n",
    "future_vols = np.array(future_vols)\n",
    "print(future_vols)\n",
    "normalized_risk = future_vols / future_vols.sum()\n",
    "print(\"normalised risk: \", normalized_risk)\n"
   ]
  }
 ],
 "metadata": {
  "kernelspec": {
   "display_name": "Python 3",
   "language": "python",
   "name": "python3"
  },
  "language_info": {
   "codemirror_mode": {
    "name": "ipython",
    "version": 3
   },
   "file_extension": ".py",
   "mimetype": "text/x-python",
   "name": "python",
   "nbconvert_exporter": "python",
   "pygments_lexer": "ipython3",
   "version": "3.10.5"
  }
 },
 "nbformat": 4,
 "nbformat_minor": 2
}
