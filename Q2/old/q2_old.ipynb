{
 "cells": [
  {
   "cell_type": "code",
   "execution_count": 18,
   "metadata": {},
   "outputs": [],
   "source": [
    "import sys, os\n",
    "parent_directory = os.path.dirname(os.getcwd())\n",
    "sys.path.append(parent_directory)\n",
    "import tool\n",
    "\n",
    "import scipy\n",
    "import pandas as pd\n",
    "import numpy as np\n",
    "\n",
    "%matplotlib widget\n",
    "import matplotlib.pyplot as plt\n",
    "from ipywidgets import interact, SelectMultiple, fixed\n",
    "\n",
    "import warnings\n",
    "warnings.filterwarnings('ignore')"
   ]
  },
  {
   "cell_type": "code",
   "execution_count": 19,
   "metadata": {},
   "outputs": [
    {
     "name": "stdout",
     "output_type": "stream",
     "text": [
      "['931580HKD01.CSI', '399646.SZ', 'h20087.CSI', '921382.CSI', '931170.CSI']\n",
      "S_IRDCODE   931580HKD01.CSI  399646.SZ  h20087.CSI  921382.CSI  931170.CSI\n",
      "TRADE_DT                                                                  \n",
      "2023-01-03         562.3470  8438.5202   4277.9228   1540.4712   1962.6112\n",
      "2023-01-04         578.3944  8506.5579   4254.8251   1538.3449   1977.2365\n",
      "2023-01-05         587.6140  8756.7102   4305.7353   1573.7741   1998.4170\n",
      "2023-01-06         578.1793  8715.0140   4325.0404   1585.6788   2007.1215\n",
      "2023-01-09         597.3721  8837.8333   4347.7910   1601.0404   2031.3875\n",
      "...                     ...        ...         ...         ...         ...\n",
      "2023-12-20         546.0745  7657.6932   3851.5766   1458.5027   1961.6502\n",
      "2023-12-21         546.0745  7657.6932   3851.5766   1458.5027   1961.6502\n",
      "2023-12-22         546.0745  7657.6932   3851.5766   1458.5027   1961.6502\n",
      "2023-12-25         546.0745  7657.6932   3851.5766   1458.5027   1961.6502\n",
      "2023-12-26         546.0745  7657.6932   3851.5766   1458.5027   1961.6502\n",
      "\n",
      "[250 rows x 5 columns]\n"
     ]
    }
   ],
   "source": [
    "\"\"\"\n",
    "Data initialisation\n",
    "\"\"\"\n",
    "\n",
    "asset_index = pd.read_csv(\"../data/AIDX.csv\")\n",
    "\n",
    "num_limit = np.random.randint(*(5,10))\n",
    "index_list = asset_index['S_IRDCODE'].drop_duplicates().sample(num_limit).tolist()\n",
    "\n",
    "asset_index['TRADE_DT'] = pd.to_datetime(asset_index['TRADE_DT'], format='%Y%m%d')\n",
    "asset_index.sort_values(by='TRADE_DT', inplace=True)\n",
    "asset_index.set_index('TRADE_DT', inplace=True)\n",
    "asset_index = asset_index.pivot(columns='S_IRDCODE', values='CLOSE').ffill()[index_list].dropna()\n",
    "\n",
    "print(index_list)\n",
    "print(asset_index)"
   ]
  },
  {
   "cell_type": "code",
   "execution_count": 20,
   "metadata": {},
   "outputs": [],
   "source": [
    "\"\"\"\n",
    "Parameters\n",
    "\"\"\"\n",
    "\n",
    "BACKTEST_DAY = 30\n",
    "MODEL_TYPE = 'BL' # MVO, RP, BL, RB\n",
    "TARGET_RETURN = 0.0 # target return\n",
    "RISK_FREE_RATE = 0.02 # risk-free rate\n",
    "REBALANCE_DAYS = 30\n",
    "\n",
    "N = len(index_list)\n",
    "index_min_weight = [0 for _ in range(N)]\n",
    "index_max_weight = [1 for _ in range(N)]\n",
    "WEIGHT_CONSTRAINTS = list(zip(index_min_weight, index_max_weight))"
   ]
  },
  {
   "cell_type": "code",
   "execution_count": 21,
   "metadata": {},
   "outputs": [
    {
     "name": "stdout",
     "output_type": "stream",
     "text": [
      "[(0.9322765431966051, 86.97835949144091, 0.010488546214606145), (-0.2543072521177438, 59.8105698383647, -0.004586267157444687), (-0.21838506934927734, 137.17898963059565, -0.0017377666214863944), (0.17845116393365168, 41.447534802219494, 0.003822933370820566), (0.03527865209486822, 38.00346033721919, 0.0004020331822232743), (-0.416222557211081, 93.35914132638234, -0.004672521094490925), (-0.18971945822526642, 22.795598520460718, -0.009199997887181064)]\n",
      "[(-0.03844692725028062, 54.8405870528287, -0.0010657604229141072), (-0.098671208202123, 73.65057794868225, -0.001611273278599523), (0.13490283370046316, 153.58264397467468, 0.0007481498607317263), (0.15795711245288582, 32.38654651644494, 0.004259704330711373), (-0.416222557211081, 93.35914132638234, -0.004672521094490925), (-0.3582529343495715, 69.85709575595783, -0.0054146673327356565), (-4.136304873467055e-23, 2.67132060876011e-13, -74869335917.27492)]\n",
      "[(0.11389418065525589, 68.3200431084278, 0.0013743284749724246), (0.15239830466328458, 65.68441754718764, 0.0020156729648728292), (0.13305076117366008, 63.29480538973435, 0.0017860985665025132), (0.03527865209486822, 38.00346033721919, 0.0004020331822232743), (-0.416222557211081, 93.35914132638234, -0.004672521094490925), (-0.3582529343495715, 69.85709575595783, -0.0054146673327356565), (-0.028169714732882347, 11.530039931522012, -0.004177757841166796)]\n"
     ]
    }
   ],
   "source": [
    "\"\"\"\n",
    "Rebalancing\n",
    "\"\"\"\n",
    "\n",
    "def rebalance(asset_index, T):\n",
    "    predicts = []\n",
    "    actuals = []\n",
    "    realities = []\n",
    "    \n",
    "    for i in range(T, len(asset_index), T):\n",
    "        \n",
    "        if i+T >= len(asset_index):\n",
    "            break\n",
    "        \n",
    "        historical_data = asset_index[i-T:i]\n",
    "        future_data = asset_index[i:i+T]\n",
    "        \n",
    "        predict, actual = tool.evaluate(historical_data, future_data, WEIGHT_CONSTRAINTS, MODEL_TYPE, TARGET_RETURN, RISK_FREE_RATE)\n",
    "        predicts.append(predict)\n",
    "        actuals.append(actual)\n",
    "        \n",
    "        reality = tool.check([1 / N for _ in range(N)], future_data, RISK_FREE_RATE)  # equally weighed\n",
    "        realities.append(reality)\n",
    "    \n",
    "    return predicts, actuals, realities\n",
    "\n",
    "predicts, actuals, realities = rebalance(asset_index, REBALANCE_DAYS)\n",
    "print(predicts)\n",
    "print(actuals)\n",
    "print(realities)"
   ]
  },
  {
   "cell_type": "code",
   "execution_count": 22,
   "metadata": {},
   "outputs": [
    {
     "data": {
      "application/vnd.jupyter.widget-view+json": {
       "model_id": "873ae21394524be3a4f1135872676b21",
       "version_major": 2,
       "version_minor": 0
      },
      "text/plain": [
       "interactive(children=(Checkbox(value=True, description='normalize'), SelectMultiple(description='Lines', index…"
      ]
     },
     "metadata": {},
     "output_type": "display_data"
    },
    {
     "data": {
      "text/plain": [
       "<function __main__.display(L1, L2, L3, normalize=False, lines_to_show=None)>"
      ]
     },
     "execution_count": 22,
     "metadata": {},
     "output_type": "execute_result"
    }
   ],
   "source": [
    "\"\"\"\n",
    "Output\n",
    "\"\"\"\n",
    "\n",
    "def display(L1, L2, L3, normalize=False, lines_to_show=None):\n",
    "    line_names = ['r1', 'v1', 's1', 'r2', 'v2', 's2', 'r3', 'v3', 's3']\n",
    "    line_styles = {\n",
    "        'r1': 'r-', 'v1': 'r--', 's1': 'r:',\n",
    "        'r2': 'b-', 'v2': 'b--', 's2': 'b:',\n",
    "        'r3': 'g-', 'v3': 'g--', 's3': 'g:'\n",
    "    }\n",
    "\n",
    "    a1, b1, c1 = zip(*L1)\n",
    "    a2, b2, c2 = zip(*L2)\n",
    "    a3, b3, c3 = zip(*L3)\n",
    "\n",
    "    lines = {'r1': a1, 'v1': b1, 's1': c1, \n",
    "             'r2': a2, 'v2': b2, 's2': c2,\n",
    "             'r3': a3, 'v3': b3, 's3': c3}\n",
    "\n",
    "    def normalize_data(data):\n",
    "        return (data - np.mean(data)) / np.std(data)\n",
    "\n",
    "    if normalize:\n",
    "        lines = {name: normalize_data(data) for name, data in lines.items()}\n",
    "\n",
    "    plt.figure(figsize=(10, 6))\n",
    "    for line in lines_to_show:\n",
    "        plt.plot(lines[line], line_styles[line], label=line, marker='o')\n",
    "    \n",
    "    plt.title(\"R: Return\\tV: Volatility\\tS: Sharpe Ratio\\n1: Predicted\\t2: Actual\\t3: Reality (Equally Weighed)\\nButton 'normalize': Normalise each line\")\n",
    "    plt.legend()\n",
    "    \n",
    "    for pair in [('r1', 'r2'), ('v1', 'v2'), ('s1', 's2')]:\n",
    "        if pair[0] in lines_to_show and pair[1] in lines_to_show:\n",
    "            corr, _ = scipy.stats.spearmanr(lines[pair[0]], lines[pair[1]])\n",
    "            print(f\"Spearman correlation between {pair[0]} and {pair[1]}: {corr:.2f}\")\n",
    "    \n",
    "    plt.show()\n",
    "\n",
    "\n",
    "# @interact\n",
    "interact(display, \n",
    "         L1=fixed(predicts), \n",
    "         L2=fixed(actuals),\n",
    "         L3=fixed(realities), \n",
    "         normalize=True, \n",
    "         lines_to_show=SelectMultiple(options=['r1', 'r2', 'r3', 'v1', 'v2', 'v3', 's1', 's2', 's3'],\n",
    "                                      value=['r1', 'r2', 'r3', 'v1', 'v2', 'v3', 's1', 's2', 's3'], \n",
    "                                      description='Lines'))\n",
    "\n"
   ]
  }
 ],
 "metadata": {
  "kernelspec": {
   "display_name": "Python 3",
   "language": "python",
   "name": "python3"
  },
  "language_info": {
   "codemirror_mode": {
    "name": "ipython",
    "version": 3
   },
   "file_extension": ".py",
   "mimetype": "text/x-python",
   "name": "python",
   "nbconvert_exporter": "python",
   "pygments_lexer": "ipython3",
   "version": "3.10.5"
  }
 },
 "nbformat": 4,
 "nbformat_minor": 2
}
