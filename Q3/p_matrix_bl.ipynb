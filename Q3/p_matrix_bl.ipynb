{
 "cells": [
  {
   "cell_type": "code",
   "execution_count": 228,
   "metadata": {
    "collapsed": true,
    "pycharm": {
     "name": "#%%\n"
    }
   },
   "outputs": [],
   "source": [
    "import pandas as pd\n",
    "import numpy as np\n",
    "from pypfopt import black_litterman\n",
    "from pypfopt import BlackLittermanModel\n",
    "from sklearn.metrics import mean_squared_error\n",
    "import warnings\n",
    "warnings.filterwarnings('ignore')\n"
   ]
  },
  {
   "cell_type": "code",
   "execution_count": 229,
   "metadata": {},
   "outputs": [],
   "source": [
    "\"\"\"\n",
    "Asset info\n",
    "\"\"\"\n",
    "\n",
    "asset_info = {\n",
    "    'h20025.CSI': (5669.2288, 4705.2669),\n",
    "    '399244.SZ': (640.136, 600.1125),\n",
    "    '931646CNY01.CSI': (1344.0437, 1247.5575),\n",
    "    'h40006.SH': (5912.7329, 6335.0402),\n",
    "    '983087.CNI': (4835.5539, 4471.1056)\n",
    "}\n",
    "\n",
    "index_list = list(asset_info.keys())"
   ]
  },
  {
   "cell_type": "code",
   "execution_count": 230,
   "metadata": {},
   "outputs": [],
   "source": [
    "\"\"\"\n",
    "BL Table\n",
    "\"\"\"\n",
    "\n",
    "# P matrix cannot be orthogonalised\n",
    "bl_table_non_orthogonal = ['0', '0', '0', '1', '-1', '0.1468', \n",
    "                           '-1', '1', '0', '0', '0', '0.1075', \n",
    "                           '0', '0', '1', '0', '0', '-0.0722', \n",
    "                           '0', '0', '0', '1', '0', '0.0715', \n",
    "                           '0', '0', '-1', '1', '0', '0.1437', ]\n",
    "\n",
    "# P matrix can be orthogonalised\n",
    "bl_table_orthogonal = ['1', '0', '0', '0', '0', '-0.17', \n",
    "                       '0', '1', '-1', '0', '0', '0.00928', \n",
    "                       '0', '-1', '0', '1', '0', '0.1339468', \n",
    "                       '-1', '0', '0', '1', '0', '0.24145741', \n",
    "                       '0', '0', '0', '1', '-1', '0.14679184', ]"
   ]
  },
  {
   "cell_type": "code",
   "execution_count": 231,
   "metadata": {},
   "outputs": [],
   "source": [
    "\"\"\"\n",
    "Data Import\n",
    "\"\"\"\n",
    "\n",
    "asset_index = pd.read_csv(\"data/AIDX.csv\", encoding='gbk')\n",
    "\n",
    "index_min_weight = [0, 0, 0, 0, 0]\n",
    "index_max_weight = [1, 1, 1, 1, 1]\n",
    "weight_constrains = list(zip(index_min_weight, index_max_weight))\n",
    "backtest_day = 30\n",
    "\n",
    "asset_index['TRADE_DT'] = pd.to_datetime(asset_index['TRADE_DT'], format='%Y%m%d')\n",
    "asset_index.sort_values(by='TRADE_DT', inplace=True)\n",
    "asset_index.set_index('TRADE_DT', inplace=True)\n",
    "asset_index = asset_index.loc[:\"20230901\"]\n",
    "asset_index = asset_index.pivot(columns='S_IRDCODE', values='CLOSE').ffill()[index_list]\n",
    "\n",
    "tmp_close = asset_index.tail(backtest_day)"
   ]
  },
  {
   "cell_type": "code",
   "execution_count": 232,
   "metadata": {},
   "outputs": [
    {
     "name": "stdout",
     "output_type": "stream",
     "text": [
      "Actual return\n",
      "[-0.09763079 -0.0632274   0.61045618  0.06072781  0.06837308]\n"
     ]
    }
   ],
   "source": [
    "\"\"\"\n",
    "BL table (Auto Generating)\n",
    "\"\"\"\n",
    "\n",
    "def generate_bl_matrix(asset_info):\n",
    "    views = {asset: (final - initial) / initial for asset, (initial, final) in asset_info.items()}\n",
    "    P_orthogonal = np.eye(len(views)) # individual return / orthogonal\n",
    "    Q = np.array(list(views.values())).ravel() # 1D array\n",
    "    P_non_orthogonal = np.full((len(views), len(views)), 0.5) #  Example where each view partially affects each asset\n",
    "    \n",
    "    return P_orthogonal, P_non_orthogonal, Q\n",
    "\n",
    "P_orthogonal_actual, P_random, Q_actual = generate_bl_matrix(asset_info)\n",
    "print(f\"Actual return\")\n",
    "print(Q_actual)\n"
   ]
  },
  {
   "cell_type": "code",
   "execution_count": 233,
   "metadata": {},
   "outputs": [
    {
     "name": "stdout",
     "output_type": "stream",
     "text": [
      "Non-orthogonal test\n",
      "[[ 0.         -0.70710678  0.70710678  0.          0.        ]\n",
      " [ 0.          0.70710678  0.70710678  0.          0.        ]\n",
      " [-1.          0.          0.          0.          0.        ]\n",
      " [ 0.          0.          0.         -0.70710678  0.70710678]\n",
      " [        nan         nan         nan         nan         nan]]\n"
     ]
    }
   ],
   "source": [
    "\"\"\"\n",
    "BL table (Manual Modification)\n",
    "\"\"\"\n",
    "\n",
    "def transform_bl_table(bl_table):\n",
    "    bl_table = np.array(bl_table)\n",
    "    bl_table = bl_table.reshape(-1,(len(index_list)+1))\n",
    "    bl_table = pd.DataFrame(bl_table,columns=index_list+['Q'])\n",
    "    bl_table = bl_table.replace('',np.nan)\n",
    "    bl_table = bl_table.astype(float)\n",
    "    bl_table = bl_table.reset_index(drop=True)\n",
    "    bl_table.index += 1\n",
    "    bl_table = bl_table.fillna(0)\n",
    "\n",
    "    P = np.array(bl_table.iloc[:,:-1])\n",
    "    Q =  np.array(bl_table.iloc[:,-1])\n",
    "    \n",
    "    return P, Q\n",
    "\n",
    "\n",
    "def gram_schmidt(V):\n",
    "    U = np.copy(V).astype(np.float64)\n",
    "    for i in range(1, V.shape[0]):\n",
    "        for j in range(i):\n",
    "            U[i] -= np.dot(U[j], U[i]) / np.dot(U[j], U[j]) * U[j]\n",
    "    for i in range(V.shape[0]):\n",
    "        U[i] /= np.linalg.norm(U[i])\n",
    "    return U\n",
    "\n",
    "P, Q = transform_bl_table(bl_table_non_orthogonal)\n",
    "print(f\"Non-orthogonal test\")\n",
    "print(gram_schmidt(P))"
   ]
  },
  {
   "cell_type": "code",
   "execution_count": 234,
   "metadata": {},
   "outputs": [
    {
     "name": "stdout",
     "output_type": "stream",
     "text": [
      "Orthogonal test\n",
      "[[ 0.          0.          1.          0.          0.        ]\n",
      " [ 0.         -0.70710678  0.          0.70710678  0.        ]\n",
      " [-0.70710678  0.          0.          0.          0.70710678]\n",
      " [-0.5         0.5         0.          0.5        -0.5       ]\n",
      " [-0.5        -0.5         0.         -0.5        -0.5       ]]\n",
      "Orthogonalisation Q\n",
      "[0.61045618 0.08764957 0.11738246 0.01337906 0.01587865]\n"
     ]
    }
   ],
   "source": [
    "\"\"\"\n",
    "Orthogonalisation\n",
    "\"\"\"\n",
    "P_can_orthogonal, Q_can_orthogonal = transform_bl_table(bl_table_orthogonal)\n",
    "print(f\"Orthogonal test\")\n",
    "print(gram_schmidt(P_can_orthogonal))\n",
    "\n",
    "def orthogonalise(P_can_orthogonal, Q_actual):\n",
    "    P_orthogonal = gram_schmidt(P_can_orthogonal)\n",
    "    Q_orthogonal = np.array([np.dot(row, Q_actual) for row in P_orthogonal])\n",
    "    return P_orthogonal, Q_orthogonal\n",
    "\n",
    "\n",
    "P_orthogonal, Q_orthogonal = orthogonalise(P_can_orthogonal, Q_actual)\n",
    "print(f\"Orthogonalisation Q\")\n",
    "print(Q_orthogonal)"
   ]
  },
  {
   "cell_type": "code",
   "execution_count": 235,
   "metadata": {},
   "outputs": [],
   "source": [
    "\"\"\"\n",
    "Run BL\n",
    "\"\"\"\n",
    "\n",
    "S = (tmp_close.pct_change().dropna()).cov()\n",
    "mcaps = {i:1 for i in list(S.index)}\n",
    "delta = 1\n",
    "market_prior = black_litterman.market_implied_prior_returns(mcaps, delta, S)\n",
    "\n",
    "# Orthogonoal, Actual\n",
    "bl_orthogonal_actual = BlackLittermanModel(S, pi=market_prior, P=P_orthogonal_actual, Q=Q_actual)\n",
    "ret_bl_orthogonal_actual = bl_orthogonal_actual.bl_returns()\n",
    "\n",
    "# Non-orthogonal\n",
    "bl_non_orthogonal = BlackLittermanModel(S, pi=market_prior, P=P, Q=Q)\n",
    "ret_bl_non_orthogonal = bl_non_orthogonal.bl_returns()\n",
    "\n",
    "# Orthogonal\n",
    "bl_orthogonal = BlackLittermanModel(S, pi=market_prior, P=P_orthogonal, Q=Q_orthogonal)\n",
    "ret_bl_orthogonal = bl_orthogonal.bl_returns()\n",
    "\n",
    "# Can be orthogonalised\n",
    "bl_can_orthogonal = BlackLittermanModel(S, pi=market_prior, P=P_can_orthogonal, Q=Q_can_orthogonal)\n",
    "ret_bl_can_orthogonal = bl_can_orthogonal.bl_returns()\n",
    "\n",
    "# Random\n",
    "bl_random = BlackLittermanModel(S, pi=market_prior, P=P_random, Q=Q_actual)\n",
    "ret_bl_random = bl_random.bl_returns()"
   ]
  },
  {
   "cell_type": "code",
   "execution_count": 236,
   "metadata": {},
   "outputs": [
    {
     "name": "stdout",
     "output_type": "stream",
     "text": [
      "MSE, Orthogonal Actual: 0.036098874325698374\n",
      "MSE, Non-Orthogonal: 0.035511292708189604\n",
      "MSE, Orthogonal: 0.036050441504895316\n",
      "MSE, Can be Orthogonalised: 0.030851124761751926\n",
      "MSE, Random: 0.07148721836557932\n"
     ]
    }
   ],
   "source": [
    "\"\"\"\n",
    "MSE\n",
    "\"\"\"\n",
    "\n",
    "mse = mean_squared_error(ret_bl_orthogonal_actual, Q_actual)\n",
    "print(f\"MSE, Orthogonal Actual: {mse}\")\n",
    "\n",
    "mse = mean_squared_error(ret_bl_non_orthogonal, Q_actual)\n",
    "print(f\"MSE, Non-Orthogonal: {mse}\")\n",
    "\n",
    "mse = mean_squared_error(ret_bl_orthogonal, Q_actual)\n",
    "print(f\"MSE, Orthogonal: {mse}\")\n",
    "\n",
    "mse = mean_squared_error(ret_bl_can_orthogonal, Q_actual)\n",
    "print(f\"MSE, Can be Orthogonalised: {mse}\")\n",
    "\n",
    "mse = mean_squared_error(ret_bl_random, Q_actual)\n",
    "print(f\"MSE, Random: {mse}\")"
   ]
  },
  {
   "cell_type": "markdown",
   "metadata": {},
   "source": [
    "### Test 1 - 4Drop/1Rise\n",
    "\n",
    "#### Asset Info\n",
    "```\n",
    "asset_info = {\n",
    "    'h20025.CSI': (5669.2288, 4705.2669),\n",
    "    '399244.SZ': (640.136, 600.1125),\n",
    "    '931646CNY01.CSI': (1344.0437, 1247.5575),\n",
    "    'h40006.SH': (5912.7329, 6335.0402),\n",
    "    '983087.CNI': (4835.5539, 4471.1056)\n",
    "}\n",
    "```\n",
    "\n",
    "Actual return\n",
    "[-0.17003404 -0.06252343 -0.07178799  0.07142337 -0.07536847]\n",
    "\n",
    "#### BL Table\n",
    "```\n",
    "# P matrix cannot be orthogonalised\n",
    "bl_table_non_orthogonal = ['0', '0', '0', '1', '-1', '0.1468', \n",
    "                           '-1', '1', '0', '0', '0', '0.1075', \n",
    "                           '0', '0', '1', '0', '0', '-0.0722', \n",
    "                           '0', '0', '0', '1', '0', '0.0715', \n",
    "                           '0', '0', '-1', '1', '0', '0.1437', ]\n",
    "\n",
    "# P matrix can be orthogonalised\n",
    "bl_table_orthogonal = ['1', '0', '0', '0', '0', '-0.17', \n",
    "                       '0', '1', '-1', '0', '0', '0.00928', \n",
    "                       '0', '-1', '0', '1', '0', '0.1339468', \n",
    "                       '-1', '0', '0', '1', '0', '0.24145741', \n",
    "                       '0', '0', '0', '1', '-1', '0.14679184', ]\n",
    "```\n",
    "\n",
    "#### Result\n",
    "\n",
    "MSE, Orthogonal Actual: 0.0024613589538743236\n",
    "\n",
    "MSE, Non-Orthogonal: 0.005495074009677869\n",
    "\n",
    "MSE, Orthogonal: 0.002138758149810064\n",
    "\n",
    "MSE, Can be Orthogonalised: 0.0015669760068734353\n",
    "\n",
    "MSE, Random: 0.006543571463257819"
   ]
  },
  {
   "cell_type": "markdown",
   "metadata": {},
   "source": [
    "### Test 2 - 2Drop/3Rise\n",
    "\n",
    "#### Asset Info\n",
    "```\n",
    "asset_info = {\n",
    "    'h20220.CSI': (5723.7547, 5164.94),\n",
    "    '399419.SZ': (1806.114, 1691.9181),\n",
    "    'h20726.CSI': (5853, 9426),\n",
    "    'CN2394.CNI': (10848.6473, 11507.4619),\n",
    "    '000037.SH': (6334.1099, 6767.1925)\n",
    "}\n",
    "```\n",
    "\n",
    "Actual return\n",
    "[-0.09763079 -0.0632274   0.61045618  0.06072781  0.06837308]\n",
    "\n",
    "#### BL Table\n",
    "```\n",
    "# P matrix cannot be orthogonalised\n",
    "bl_table_non_orthogonal = ['0', '-1', '1', '0', '0', '0.67368358', \n",
    "                           '0', '0', '1', '0', '0', '0.61045618', \n",
    "                           '-1', '1', '0', '0', '0', '0.03440339', \n",
    "                           '0', '0', '0', '-1', '1', '0.00764527', \n",
    "                           '1', '0', '0', '0', '0', '-0.09763079', ]\n",
    "\n",
    "# P matrix can be orthogonalised\n",
    "bl_table_orthogonal = ['0', '0', '1', '0', '0', '0.61045618', \n",
    "                       '0', '-1', '0', '1', '0', '0.12395521', \n",
    "                       '-1', '0', '0', '0', '1', '0.16600387', \n",
    "                       '-1', '0', '0', '1', '0', '0.1583586', \n",
    "                       '0', '0', '1', '-1', '0', '0.54972837', ]\n",
    "```\n",
    "\n",
    "#### Result\n",
    "\n",
    "MSE, Orthogonal Actual: 0.036098874325698374\n",
    "\n",
    "MSE, Non-Orthogonal: 0.035511292708189604\n",
    "\n",
    "MSE, Orthogonal: 0.036050441504895316\n",
    "\n",
    "MSE, Can be Orthogonalised: 0.030851124761751926\n",
    "\n",
    "MSE, Random: 0.07148721836557932"
   ]
  }
 ],
 "metadata": {
  "kernelspec": {
   "display_name": "Python 3",
   "language": "python",
   "name": "python3"
  },
  "language_info": {
   "codemirror_mode": {
    "name": "ipython",
    "version": 3
   },
   "file_extension": ".py",
   "mimetype": "text/x-python",
   "name": "python",
   "nbconvert_exporter": "python",
   "pygments_lexer": "ipython3",
   "version": "3.10.5"
  }
 },
 "nbformat": 4,
 "nbformat_minor": 0
}
