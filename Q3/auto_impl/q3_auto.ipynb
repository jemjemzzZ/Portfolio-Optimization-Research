{
 "cells": [
  {
   "cell_type": "code",
   "execution_count": null,
   "metadata": {},
   "outputs": [],
   "source": [
    "import tool\n",
    "import pandas as pd\n",
    "import numpy as np\n",
    "%matplotlib widget\n",
    "import matplotlib.pyplot as plt\n",
    "import warnings\n",
    "warnings.filterwarnings('ignore')"
   ]
  },
  {
   "cell_type": "code",
   "execution_count": null,
   "metadata": {},
   "outputs": [],
   "source": [
    "# data import\n",
    "asset_index = pd.read_csv(\"../data/AIDX.csv\", encoding='gbk')\n",
    "\n",
    "# data sorting\n",
    "grouped_asset = asset_index.groupby(\"S_IRDCODE\")\n",
    "asset_dfs = {ird_code: group for ird_code, group in grouped_asset if len(group) >= 200}\n",
    "for ird_code, grouped_df in asset_dfs.items():\n",
    "    grouped_df['TRADE_DT'] = pd.to_datetime(grouped_df['TRADE_DT'], format='%Y%m%d')\n",
    "    grouped_df.sort_values(by='TRADE_DT', inplace=True)\n",
    "\n",
    "# parameters\n",
    "backtest_day = 30\n",
    "end_date = '20230901'\n",
    "num_iteration = 200"
   ]
  },
  {
   "cell_type": "code",
   "execution_count": null,
   "metadata": {},
   "outputs": [],
   "source": [
    "# iteration start\n",
    "results = []\n",
    "for i in range(0, num_iteration):\n",
    "    # initialisation\n",
    "    asset_info = tool.generate_random_qualified_assets(asset_dfs, num_limit=[5,10], \n",
    "                                                       fraction_movement=0.01, threshold_day=22, n_days=7, threshold_rate=0.05, \n",
    "                                                       start_date=end_date, tolerance_days=5)\n",
    "    index_list = list(asset_info.keys())\n",
    "    \n",
    "    num_assets = len(index_list)\n",
    "    num_views = num_assets\n",
    "    \n",
    "    asset_index_copy = asset_index.copy()\n",
    "    asset_index_copy['TRADE_DT'] = pd.to_datetime(asset_index_copy['TRADE_DT'], format='%Y%m%d')\n",
    "    asset_index_copy.sort_values(by='TRADE_DT', inplace=True)\n",
    "    asset_index_copy.set_index('TRADE_DT', inplace=True)\n",
    "    asset_index_copy = asset_index_copy.loc[:end_date]\n",
    "    asset_index_copy = asset_index_copy.pivot(columns='S_IRDCODE', values='CLOSE').ffill()[index_list]\n",
    "    tmp_close = asset_index_copy.tail(backtest_day)\n",
    "    \n",
    "    S = (tmp_close.pct_change().dropna()).cov()\n",
    "    mcaps = {i:1 for i in list(S.index)}\n",
    "    delta = 1\n",
    "    \n",
    "    mse_results = tool.mse_calculation(asset_info, S, mcaps, delta, num_assets, num_views)\n",
    "    \n",
    "    result = (num_assets, mse_results)\n",
    "    results.append(result)\n",
    "    \n",
    "    print(index_list)\n",
    "    print(mse_results)"
   ]
  },
  {
   "cell_type": "code",
   "execution_count": null,
   "metadata": {},
   "outputs": [],
   "source": [
    "# visualisation\n",
    "line_names = ['Orthogonal/Actual', 'Non-orthogonal', 'Orthogonal', 'Can be orthogonal', 'Not-related(Random)']\n",
    "\n",
    "sorted_results = sorted([inner_tuple for _, inner_tuple in results], key=lambda x: len(x))\n",
    "transposed_list = list(zip(*sorted_results))\n",
    "\n",
    "# Plot each list as a separate line\n",
    "plt.figure()\n",
    "for line_data, line_name in zip(transposed_list, line_names):\n",
    "    avg_value = np.mean(line_data)\n",
    "    plt.plot(line_data, label=f'{line_name} (avg: {avg_value:.5f})')\n",
    "\n",
    "# Adding labels and title\n",
    "plt.xlabel('Tests')\n",
    "plt.ylabel('MSE value')\n",
    "plt.title('MSE with actual return')\n",
    "plt.legend()\n",
    "\n",
    "# Show the plot\n",
    "plt.show()"
   ]
  }
 ],
 "metadata": {
  "kernelspec": {
   "display_name": "Python 3",
   "language": "python",
   "name": "python3"
  },
  "language_info": {
   "codemirror_mode": {
    "name": "ipython",
    "version": 3
   },
   "file_extension": ".py",
   "mimetype": "text/x-python",
   "name": "python",
   "nbconvert_exporter": "python",
   "pygments_lexer": "ipython3",
   "version": "3.10.5"
  }
 },
 "nbformat": 4,
 "nbformat_minor": 2
}
