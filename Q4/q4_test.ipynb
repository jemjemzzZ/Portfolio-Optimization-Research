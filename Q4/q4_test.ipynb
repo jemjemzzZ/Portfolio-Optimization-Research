{
 "cells": [
  {
   "cell_type": "code",
   "execution_count": null,
   "metadata": {},
   "outputs": [],
   "source": [
    "import random, scipy\n",
    "import numpy as np\n",
    "import pandas as pd\n",
    "import matplotlib.pyplot as plt\n",
    "from deap import base, creator, tools, algorithms"
   ]
  },
  {
   "cell_type": "code",
   "execution_count": null,
   "metadata": {},
   "outputs": [],
   "source": [
    "\"\"\"\n",
    "Data import\n",
    "\"\"\"\n",
    "asset_index = pd.read_csv(\"data/aidx_eod_prices.csv\")\n",
    "\n",
    "# data sorting/longer than 800 days\n",
    "grouped_asset = asset_index.groupby(\"S_IRDCODE\")\n",
    "asset_dfs = {ird_code: group for ird_code, group in grouped_asset if len(group) >= 800}\n",
    "for ird_code, grouped_df in asset_dfs.items():\n",
    "    grouped_df['TRADE_DT'] = pd.to_datetime(grouped_df['TRADE_DT'], format='%Y%m%d')\n",
    "    grouped_df.sort_values(by='TRADE_DT', inplace=True)"
   ]
  },
  {
   "cell_type": "code",
   "execution_count": null,
   "metadata": {},
   "outputs": [],
   "source": [
    "\"\"\"\n",
    "Parameters\n",
    "\"\"\"\n",
    "\n",
    "NUM_LIMIT = 100 # assets amount limitation range\n",
    "CORR_LIMIT = 0.5 # assets' correlation limiation\n"
   ]
  },
  {
   "cell_type": "code",
   "execution_count": null,
   "metadata": {},
   "outputs": [],
   "source": [
    "\"\"\"\n",
    "Asset sampling\n",
    "\"\"\"\n",
    "\n",
    "def sample(num_limit, asset_dfs, corr_limit):\n",
    "    index_list = random.sample(list(asset_dfs.keys()), num_limit)\n",
    "    \n",
    "    def is_non_related(index_list):\n",
    "        for i in range(0, len(index_list)):\n",
    "            for j in range(i+1, len(index_list)):\n",
    "                i_df = asset_dfs[index_list[i]]\n",
    "                j_df = asset_dfs[index_list[j]]\n",
    "                min_length = min(len(i_df['PCHG']), len(j_df['PCHG']))\n",
    "                corr, _ = scipy.stats.spearmanr(i_df['PCHG'].iloc[:min_length], j_df['PCHG'].iloc[:min_length])\n",
    "                if corr > corr_limit:\n",
    "                    return False\n",
    "        return True\n",
    "    \n",
    "    while is_non_related(index_list) == False:\n",
    "        index_list = random.sample(list(asset_dfs.keys()), num_limit)\n",
    "    \n",
    "    return index_list"
   ]
  },
  {
   "cell_type": "code",
   "execution_count": null,
   "metadata": {},
   "outputs": [],
   "source": [
    "\"\"\"\n",
    "Asset data process\n",
    "\"\"\"\n",
    "\n",
    "# assets pool\n",
    "# unique_assets = sample(NUM_LIMIT, asset_dfs, CORR_LIMIT)\n",
    "unique_assets = ['930963.CSI', '483051.CNI', '930923.CSI', 'CN5122.CNI', 'h20856.CSI', 'h30467.CSI', 'h30188.CSI', 'h01179.CSI', '931722USD210.CSI', 'h21094.CSI']\n",
    "\n",
    "# assets dataframe\n",
    "asset_index_copy = asset_index.copy()\n",
    "asset_index_copy['TRADE_DT'] = pd.to_datetime(asset_index_copy['TRADE_DT'], format='%Y%m%d')\n",
    "asset_index_copy.sort_values(by='TRADE_DT', inplace=True)\n",
    "asset_index_copy.set_index('TRADE_DT', inplace=True)\n",
    "asset_index_copy = asset_index_copy.pivot(columns='S_IRDCODE', values='CLOSE').ffill()[unique_assets].dropna()\n",
    "asset_index_copy = asset_index_copy.tail(BACKTEST_DAY)\n",
    "\n",
    "print(unique_assets)\n",
    "print(asset_index_copy)"
   ]
  }
 ],
 "metadata": {
  "language_info": {
   "name": "python"
  }
 },
 "nbformat": 4,
 "nbformat_minor": 2
}
