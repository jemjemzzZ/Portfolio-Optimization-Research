{
 "cells": [
  {
   "cell_type": "code",
   "execution_count": null,
   "metadata": {},
   "outputs": [],
   "source": [
    "from deap import base, creator, tools, algorithms\n",
    "import random\n",
    "\n",
    "# Define the problem\n",
    "def fitness(individual):\n",
    "    a, b, c, d = individual\n",
    "    return a * b * c * d,\n",
    "\n",
    "# Constraint\n",
    "def feasible(individual):\n",
    "    return sum(individual) == 100\n",
    "\n",
    "# Repair infeasible solution\n",
    "def repair(individual):\n",
    "    n = 100 / sum(individual)\n",
    "    for i in range(len(individual)):\n",
    "        individual[i] *= n\n",
    "        individual[i] = int(individual[i])\n",
    "    d = 100 - sum(individual)\n",
    "    individual[random.randint(0, len(individual)-1)] += d\n",
    "    return individual\n",
    "\n",
    "# Setup DEAP\n",
    "creator.create(\"FitnessMax\", base.Fitness, weights=(1.0,))\n",
    "creator.create(\"Individual\", list, fitness=creator.FitnessMax)\n",
    "\n",
    "toolbox = base.Toolbox()\n",
    "toolbox.register(\"attr_int\", random.randint, 1, 100)\n",
    "toolbox.register(\"individual\", tools.initRepeat, creator.Individual, toolbox.attr_int, 4)\n",
    "toolbox.register(\"population\", tools.initRepeat, list, toolbox.individual)\n",
    "toolbox.register(\"evaluate\", fitness)\n",
    "toolbox.register(\"mate\", tools.cxOnePoint)\n",
    "toolbox.register(\"mutate\", tools.mutUniformInt, low=1, up=100, indpb=0.2)\n",
    "toolbox.register(\"select\", tools.selTournament, tournsize=3)\n",
    "\n",
    "# Decorate evaluation function with feasibility check\n",
    "toolbox.decorate(\"evaluate\", tools.DeltaPenalty(feasible, 0, repair))\n",
    "\n",
    "# Evolutionary Algorithm\n",
    "def main():\n",
    "    pop = toolbox.population(n=50)\n",
    "    hof = tools.HallOfFame(1)\n",
    "    stats = tools.Statistics(lambda ind: ind.fitness.values)\n",
    "    stats.register(\"max\", max)\n",
    "\n",
    "    algorithms.eaSimple(pop, toolbox, cxpb=0.5, mutpb=0.2, ngen=50000, stats=stats, halloffame=hof)\n",
    "\n",
    "    return hof[0]\n",
    "\n",
    "# Run the GA\n",
    "best_ind = main()\n",
    "print(\"Best Individual:\", best_ind, \"Fitness:\", best_ind.fitness.values[0])\n"
   ]
  }
 ],
 "metadata": {
  "kernelspec": {
   "display_name": "Python 3",
   "language": "python",
   "name": "python3"
  },
  "language_info": {
   "codemirror_mode": {
    "name": "ipython",
    "version": 3
   },
   "file_extension": ".py",
   "mimetype": "text/x-python",
   "name": "python",
   "nbconvert_exporter": "python",
   "pygments_lexer": "ipython3",
   "version": "3.10.5"
  }
 },
 "nbformat": 4,
 "nbformat_minor": 2
}
