{
 "cells": [
  {
   "cell_type": "code",
   "execution_count": 1,
   "metadata": {},
   "outputs": [
    {
     "name": "stdout",
     "output_type": "stream",
     "text": [
      "WARNING: Could not locate the 'ipopt' executable, which is required for solver\n",
      "ipopt\n"
     ]
    },
    {
     "ename": "ApplicationError",
     "evalue": "No executable found for solver 'ipopt'",
     "output_type": "error",
     "traceback": [
      "\u001b[1;31m---------------------------------------------------------------------------\u001b[0m",
      "\u001b[1;31mApplicationError\u001b[0m                          Traceback (most recent call last)",
      "Cell \u001b[1;32mIn[1], line 38\u001b[0m\n\u001b[0;32m     36\u001b[0m \u001b[38;5;66;03m# Solving\u001b[39;00m\n\u001b[0;32m     37\u001b[0m solver \u001b[38;5;241m=\u001b[39m SolverFactory(\u001b[38;5;124m'\u001b[39m\u001b[38;5;124mipopt\u001b[39m\u001b[38;5;124m'\u001b[39m)\n\u001b[1;32m---> 38\u001b[0m solver\u001b[38;5;241m.\u001b[39msolve(model)\n\u001b[0;32m     40\u001b[0m \u001b[38;5;66;03m# Output\u001b[39;00m\n\u001b[0;32m     41\u001b[0m \u001b[38;5;28;01mfor\u001b[39;00m i \u001b[38;5;129;01min\u001b[39;00m \u001b[38;5;28mrange\u001b[39m(num_assets):\n",
      "File \u001b[1;32mc:\\Users\\jiawe\\anaconda3\\Lib\\site-packages\\pyomo\\opt\\base\\solvers.py:533\u001b[0m, in \u001b[0;36mOptSolver.solve\u001b[1;34m(self, *args, **kwds)\u001b[0m\n\u001b[0;32m    530\u001b[0m \u001b[38;5;28;01mdef\u001b[39;00m \u001b[38;5;21msolve\u001b[39m(\u001b[38;5;28mself\u001b[39m, \u001b[38;5;241m*\u001b[39margs, \u001b[38;5;241m*\u001b[39m\u001b[38;5;241m*\u001b[39mkwds):\n\u001b[0;32m    531\u001b[0m \u001b[38;5;250m    \u001b[39m\u001b[38;5;124;03m\"\"\"Solve the problem\"\"\"\u001b[39;00m\n\u001b[1;32m--> 533\u001b[0m     \u001b[38;5;28mself\u001b[39m\u001b[38;5;241m.\u001b[39mavailable(exception_flag\u001b[38;5;241m=\u001b[39m\u001b[38;5;28;01mTrue\u001b[39;00m)\n\u001b[0;32m    534\u001b[0m     \u001b[38;5;66;03m#\u001b[39;00m\n\u001b[0;32m    535\u001b[0m     \u001b[38;5;66;03m# If the inputs are models, then validate that they have been\u001b[39;00m\n\u001b[0;32m    536\u001b[0m     \u001b[38;5;66;03m# constructed! Collect suffix names to try and import from solution.\u001b[39;00m\n\u001b[0;32m    537\u001b[0m     \u001b[38;5;66;03m#\u001b[39;00m\n\u001b[0;32m    538\u001b[0m     \u001b[38;5;28;01mfrom\u001b[39;00m \u001b[38;5;21;01mpyomo\u001b[39;00m\u001b[38;5;21;01m.\u001b[39;00m\u001b[38;5;21;01mcore\u001b[39;00m\u001b[38;5;21;01m.\u001b[39;00m\u001b[38;5;21;01mbase\u001b[39;00m\u001b[38;5;21;01m.\u001b[39;00m\u001b[38;5;21;01mblock\u001b[39;00m \u001b[38;5;28;01mimport\u001b[39;00m _BlockData\n",
      "File \u001b[1;32mc:\\Users\\jiawe\\anaconda3\\Lib\\site-packages\\pyomo\\opt\\solver\\shellcmd.py:141\u001b[0m, in \u001b[0;36mSystemCallSolver.available\u001b[1;34m(self, exception_flag)\u001b[0m\n\u001b[0;32m    139\u001b[0m     \u001b[38;5;28;01mif\u001b[39;00m exception_flag:\n\u001b[0;32m    140\u001b[0m         msg \u001b[38;5;241m=\u001b[39m \u001b[38;5;124m\"\u001b[39m\u001b[38;5;124mNo executable found for solver \u001b[39m\u001b[38;5;124m'\u001b[39m\u001b[38;5;132;01m%s\u001b[39;00m\u001b[38;5;124m'\u001b[39m\u001b[38;5;124m\"\u001b[39m\n\u001b[1;32m--> 141\u001b[0m         \u001b[38;5;28;01mraise\u001b[39;00m ApplicationError(msg \u001b[38;5;241m%\u001b[39m \u001b[38;5;28mself\u001b[39m\u001b[38;5;241m.\u001b[39mname)\n\u001b[0;32m    142\u001b[0m     \u001b[38;5;28;01mreturn\u001b[39;00m \u001b[38;5;28;01mFalse\u001b[39;00m\n\u001b[0;32m    143\u001b[0m \u001b[38;5;28;01mreturn\u001b[39;00m \u001b[38;5;28;01mTrue\u001b[39;00m\n",
      "\u001b[1;31mApplicationError\u001b[0m: No executable found for solver 'ipopt'"
     ]
    }
   ],
   "source": [
    "from pyomo.environ import *\n",
    "\n",
    "# Sample Data\n",
    "AssetMean = [0.0101110, 0.0043532, 0.0137058]\n",
    "AssetCovar = [[0.00324625, 0.00022983, 0.00420395],\n",
    "              [0.00022983, 0.00049937, 0.00019247],\n",
    "              [0.00420395, 0.00019247, 0.00764097]]\n",
    "num_assets = len(AssetMean)\n",
    "select_count = 2  # For your case, this will be 4\n",
    "\n",
    "# Model\n",
    "model = ConcreteModel()\n",
    "\n",
    "# Variables\n",
    "model.x = Var(range(num_assets), within=NonNegativeReals)  # weights\n",
    "model.y = Var(range(num_assets), within=Binary)  # binary selection variables\n",
    "\n",
    "# Objective\n",
    "def objective_rule(m):\n",
    "    return sum(m.x[i] * AssetMean[i] for i in range(num_assets))\n",
    "model.objective = Objective(rule=objective_rule, sense=maximize)\n",
    "\n",
    "# Constraints\n",
    "def weight_sum_rule(m):\n",
    "    return sum(m.x[i] for i in range(num_assets)) == 1\n",
    "model.weight_sum = Constraint(rule=weight_sum_rule)\n",
    "\n",
    "def select_asset_rule(m, i):\n",
    "    return m.x[i] <= m.y[i]\n",
    "model.select_asset = Constraint(range(num_assets), rule=select_asset_rule)\n",
    "\n",
    "def number_of_assets_rule(m):\n",
    "    return sum(m.y[i] for i in range(num_assets)) == select_count\n",
    "model.number_of_assets = Constraint(rule=number_of_assets_rule)\n",
    "\n",
    "# Solving\n",
    "solver = SolverFactory('ipopt')\n",
    "solver.solve(model)\n",
    "\n",
    "# Output\n",
    "for i in range(num_assets):\n",
    "    print(f\"Asset {i}: Selected={model.y[i]()}, Weight={model.x[i]()}\")\n",
    "\n"
   ]
  }
 ],
 "metadata": {
  "kernelspec": {
   "display_name": "Python 3 (ipykernel)",
   "language": "python",
   "name": "python3"
  }
 },
 "nbformat": 4,
 "nbformat_minor": 2
}
