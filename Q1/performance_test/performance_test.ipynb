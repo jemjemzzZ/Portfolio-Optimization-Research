{
 "cells": [
  {
   "cell_type": "code",
   "execution_count": 94,
   "metadata": {
    "collapsed": true,
    "pycharm": {
     "name": "#%%\n"
    }
   },
   "outputs": [],
   "source": [
    "import random\n",
    "import numpy as np\n",
    "import pandas as pd\n",
    "import cvxpy as cp\n",
    "import matplotlib.pyplot as plt\n",
    "from deap import base, creator, tools, algorithms\n"
   ]
  },
  {
   "cell_type": "code",
   "execution_count": 95,
   "outputs": [
    {
     "data": {
      "text/plain": "           000001.SZ   000002.SZ   000063.SZ   000069.SZ   000100.SZ   \\\n000001.SZ       1.000       0.456       0.331       0.460       0.343   \n000002.SZ       0.456       1.000       0.286       0.593       0.263   \n000063.SZ       0.331       0.286       1.000       0.354       0.473   \n000069.SZ       0.460       0.593       0.354       1.000       0.360   \n000100.SZ       0.343       0.263       0.473       0.360       1.000   \n...               ...         ...         ...         ...         ...   \n601939.SH       0.565       0.444       0.258       0.416       0.278   \n601988.SH       0.505       0.377       0.237       0.386       0.245   \n601989.SH       0.290       0.244       0.388       0.406       0.403   \n601998.SH       0.559       0.395       0.271       0.405       0.263   \n603993.SH       0.262       0.215       0.303       0.304       0.340   \n\n           000157.SZ   000301.SZ   000338.SZ   000408.SZ   000425.SZ   ...  \\\n000001.SZ       0.409       0.226       0.316       0.154       0.265  ...   \n000002.SZ       0.378       0.183       0.309       0.110       0.247  ...   \n000063.SZ       0.380       0.307       0.330       0.283       0.304  ...   \n000069.SZ       0.478       0.325       0.385       0.250       0.344  ...   \n000100.SZ       0.487       0.343       0.388       0.275       0.320  ...   \n...               ...         ...         ...         ...         ...  ...   \n601939.SH       0.371       0.171       0.285       0.075       0.240  ...   \n601988.SH       0.298       0.168       0.244       0.074       0.212  ...   \n601989.SH       0.482       0.370       0.394       0.328       0.346  ...   \n601998.SH       0.339       0.199       0.280       0.128       0.256  ...   \n603993.SH       0.369       0.334       0.290       0.281       0.268  ...   \n\n           601888.SH   601898.SH   601899.SH   601901.SH   601919.SH   \\\n000001.SZ       0.276       0.361       0.302       0.456       0.285   \n000002.SZ       0.223       0.295       0.257       0.348       0.241   \n000063.SZ       0.285       0.287       0.290       0.390       0.306   \n000069.SZ       0.271       0.444       0.364       0.444       0.341   \n000100.SZ       0.289       0.378       0.384       0.439       0.343   \n...               ...         ...         ...         ...         ...   \n601939.SH       0.197       0.387       0.293       0.427       0.254   \n601988.SH       0.166       0.368       0.242       0.408       0.234   \n601989.SH       0.253       0.478       0.369       0.437       0.400   \n601998.SH       0.199       0.367       0.266       0.457       0.251   \n603993.SH       0.212       0.401       0.443       0.323       0.305   \n\n           601939.SH   601988.SH   601989.SH   601998.SH   603993.SH   \n000001.SZ       0.565       0.505       0.290       0.559       0.262  \n000002.SZ       0.444       0.377       0.244       0.395       0.215  \n000063.SZ       0.258       0.237       0.388       0.271       0.303  \n000069.SZ       0.416       0.386       0.406       0.405       0.304  \n000100.SZ       0.278       0.245       0.403       0.263       0.340  \n...               ...         ...         ...         ...         ...  \n601939.SH       1.000       0.769       0.301       0.658       0.217  \n601988.SH       0.769       1.000       0.257       0.692       0.192  \n601989.SH       0.301       0.257       1.000       0.288       0.356  \n601998.SH       0.658       0.692       0.288       1.000       0.217  \n603993.SH       0.217       0.192       0.356       0.217       1.000  \n\n[195 rows x 195 columns]",
      "text/html": "<div>\n<style scoped>\n    .dataframe tbody tr th:only-of-type {\n        vertical-align: middle;\n    }\n\n    .dataframe tbody tr th {\n        vertical-align: top;\n    }\n\n    .dataframe thead th {\n        text-align: right;\n    }\n</style>\n<table border=\"1\" class=\"dataframe\">\n  <thead>\n    <tr style=\"text-align: right;\">\n      <th></th>\n      <th>000001.SZ</th>\n      <th>000002.SZ</th>\n      <th>000063.SZ</th>\n      <th>000069.SZ</th>\n      <th>000100.SZ</th>\n      <th>000157.SZ</th>\n      <th>000301.SZ</th>\n      <th>000338.SZ</th>\n      <th>000408.SZ</th>\n      <th>000425.SZ</th>\n      <th>...</th>\n      <th>601888.SH</th>\n      <th>601898.SH</th>\n      <th>601899.SH</th>\n      <th>601901.SH</th>\n      <th>601919.SH</th>\n      <th>601939.SH</th>\n      <th>601988.SH</th>\n      <th>601989.SH</th>\n      <th>601998.SH</th>\n      <th>603993.SH</th>\n    </tr>\n  </thead>\n  <tbody>\n    <tr>\n      <th>000001.SZ</th>\n      <td>1.000</td>\n      <td>0.456</td>\n      <td>0.331</td>\n      <td>0.460</td>\n      <td>0.343</td>\n      <td>0.409</td>\n      <td>0.226</td>\n      <td>0.316</td>\n      <td>0.154</td>\n      <td>0.265</td>\n      <td>...</td>\n      <td>0.276</td>\n      <td>0.361</td>\n      <td>0.302</td>\n      <td>0.456</td>\n      <td>0.285</td>\n      <td>0.565</td>\n      <td>0.505</td>\n      <td>0.290</td>\n      <td>0.559</td>\n      <td>0.262</td>\n    </tr>\n    <tr>\n      <th>000002.SZ</th>\n      <td>0.456</td>\n      <td>1.000</td>\n      <td>0.286</td>\n      <td>0.593</td>\n      <td>0.263</td>\n      <td>0.378</td>\n      <td>0.183</td>\n      <td>0.309</td>\n      <td>0.110</td>\n      <td>0.247</td>\n      <td>...</td>\n      <td>0.223</td>\n      <td>0.295</td>\n      <td>0.257</td>\n      <td>0.348</td>\n      <td>0.241</td>\n      <td>0.444</td>\n      <td>0.377</td>\n      <td>0.244</td>\n      <td>0.395</td>\n      <td>0.215</td>\n    </tr>\n    <tr>\n      <th>000063.SZ</th>\n      <td>0.331</td>\n      <td>0.286</td>\n      <td>1.000</td>\n      <td>0.354</td>\n      <td>0.473</td>\n      <td>0.380</td>\n      <td>0.307</td>\n      <td>0.330</td>\n      <td>0.283</td>\n      <td>0.304</td>\n      <td>...</td>\n      <td>0.285</td>\n      <td>0.287</td>\n      <td>0.290</td>\n      <td>0.390</td>\n      <td>0.306</td>\n      <td>0.258</td>\n      <td>0.237</td>\n      <td>0.388</td>\n      <td>0.271</td>\n      <td>0.303</td>\n    </tr>\n    <tr>\n      <th>000069.SZ</th>\n      <td>0.460</td>\n      <td>0.593</td>\n      <td>0.354</td>\n      <td>1.000</td>\n      <td>0.360</td>\n      <td>0.478</td>\n      <td>0.325</td>\n      <td>0.385</td>\n      <td>0.250</td>\n      <td>0.344</td>\n      <td>...</td>\n      <td>0.271</td>\n      <td>0.444</td>\n      <td>0.364</td>\n      <td>0.444</td>\n      <td>0.341</td>\n      <td>0.416</td>\n      <td>0.386</td>\n      <td>0.406</td>\n      <td>0.405</td>\n      <td>0.304</td>\n    </tr>\n    <tr>\n      <th>000100.SZ</th>\n      <td>0.343</td>\n      <td>0.263</td>\n      <td>0.473</td>\n      <td>0.360</td>\n      <td>1.000</td>\n      <td>0.487</td>\n      <td>0.343</td>\n      <td>0.388</td>\n      <td>0.275</td>\n      <td>0.320</td>\n      <td>...</td>\n      <td>0.289</td>\n      <td>0.378</td>\n      <td>0.384</td>\n      <td>0.439</td>\n      <td>0.343</td>\n      <td>0.278</td>\n      <td>0.245</td>\n      <td>0.403</td>\n      <td>0.263</td>\n      <td>0.340</td>\n    </tr>\n    <tr>\n      <th>...</th>\n      <td>...</td>\n      <td>...</td>\n      <td>...</td>\n      <td>...</td>\n      <td>...</td>\n      <td>...</td>\n      <td>...</td>\n      <td>...</td>\n      <td>...</td>\n      <td>...</td>\n      <td>...</td>\n      <td>...</td>\n      <td>...</td>\n      <td>...</td>\n      <td>...</td>\n      <td>...</td>\n      <td>...</td>\n      <td>...</td>\n      <td>...</td>\n      <td>...</td>\n      <td>...</td>\n    </tr>\n    <tr>\n      <th>601939.SH</th>\n      <td>0.565</td>\n      <td>0.444</td>\n      <td>0.258</td>\n      <td>0.416</td>\n      <td>0.278</td>\n      <td>0.371</td>\n      <td>0.171</td>\n      <td>0.285</td>\n      <td>0.075</td>\n      <td>0.240</td>\n      <td>...</td>\n      <td>0.197</td>\n      <td>0.387</td>\n      <td>0.293</td>\n      <td>0.427</td>\n      <td>0.254</td>\n      <td>1.000</td>\n      <td>0.769</td>\n      <td>0.301</td>\n      <td>0.658</td>\n      <td>0.217</td>\n    </tr>\n    <tr>\n      <th>601988.SH</th>\n      <td>0.505</td>\n      <td>0.377</td>\n      <td>0.237</td>\n      <td>0.386</td>\n      <td>0.245</td>\n      <td>0.298</td>\n      <td>0.168</td>\n      <td>0.244</td>\n      <td>0.074</td>\n      <td>0.212</td>\n      <td>...</td>\n      <td>0.166</td>\n      <td>0.368</td>\n      <td>0.242</td>\n      <td>0.408</td>\n      <td>0.234</td>\n      <td>0.769</td>\n      <td>1.000</td>\n      <td>0.257</td>\n      <td>0.692</td>\n      <td>0.192</td>\n    </tr>\n    <tr>\n      <th>601989.SH</th>\n      <td>0.290</td>\n      <td>0.244</td>\n      <td>0.388</td>\n      <td>0.406</td>\n      <td>0.403</td>\n      <td>0.482</td>\n      <td>0.370</td>\n      <td>0.394</td>\n      <td>0.328</td>\n      <td>0.346</td>\n      <td>...</td>\n      <td>0.253</td>\n      <td>0.478</td>\n      <td>0.369</td>\n      <td>0.437</td>\n      <td>0.400</td>\n      <td>0.301</td>\n      <td>0.257</td>\n      <td>1.000</td>\n      <td>0.288</td>\n      <td>0.356</td>\n    </tr>\n    <tr>\n      <th>601998.SH</th>\n      <td>0.559</td>\n      <td>0.395</td>\n      <td>0.271</td>\n      <td>0.405</td>\n      <td>0.263</td>\n      <td>0.339</td>\n      <td>0.199</td>\n      <td>0.280</td>\n      <td>0.128</td>\n      <td>0.256</td>\n      <td>...</td>\n      <td>0.199</td>\n      <td>0.367</td>\n      <td>0.266</td>\n      <td>0.457</td>\n      <td>0.251</td>\n      <td>0.658</td>\n      <td>0.692</td>\n      <td>0.288</td>\n      <td>1.000</td>\n      <td>0.217</td>\n    </tr>\n    <tr>\n      <th>603993.SH</th>\n      <td>0.262</td>\n      <td>0.215</td>\n      <td>0.303</td>\n      <td>0.304</td>\n      <td>0.340</td>\n      <td>0.369</td>\n      <td>0.334</td>\n      <td>0.290</td>\n      <td>0.281</td>\n      <td>0.268</td>\n      <td>...</td>\n      <td>0.212</td>\n      <td>0.401</td>\n      <td>0.443</td>\n      <td>0.323</td>\n      <td>0.305</td>\n      <td>0.217</td>\n      <td>0.192</td>\n      <td>0.356</td>\n      <td>0.217</td>\n      <td>1.000</td>\n    </tr>\n  </tbody>\n</table>\n<p>195 rows × 195 columns</p>\n</div>"
     },
     "execution_count": 95,
     "metadata": {},
     "output_type": "execute_result"
    }
   ],
   "source": [
    "\"\"\"\n",
    "Data Load\n",
    "\"\"\"\n",
    "cov_matrix = pd.read_excel(\"沪深300十年收盘价相关系数.xlsx\", index_col=0)\n",
    "cov_matrix"
   ],
   "metadata": {
    "collapsed": false,
    "pycharm": {
     "name": "#%%\n"
    }
   }
  },
  {
   "cell_type": "code",
   "execution_count": 96,
   "outputs": [],
   "source": [
    "\"\"\"\n",
    "Check Matrix Symmetry\n",
    "\"\"\"\n",
    "def check_symmetry(cov_matrix):\n",
    "    # Check symmetry\n",
    "    if not np.allclose(cov_matrix, cov_matrix.T):\n",
    "        print(\"The covariance matrix is not symmetric.\")\n",
    "    else:\n",
    "        print(\"The covariance matrix is symmetric.\")\n",
    "        return\n",
    "\n",
    "    # Find non-symmetric pairs\n",
    "    non_symmetric_pairs = []\n",
    "    for i in range(len(cov_matrix)):\n",
    "        for j in range(i+1, len(cov_matrix)):\n",
    "            if not np.isclose(cov_matrix.iloc[i, j], cov_matrix.iloc[j, i]):\n",
    "                row_asset = cov_matrix.index[i]\n",
    "                col_asset = cov_matrix.columns[j]\n",
    "                non_symmetric_pairs.append((row_asset, col_asset))\n",
    "    for pair in non_symmetric_pairs:\n",
    "        print(\"Non-symmetric pair:\", pair)\n",
    "\n",
    "# check_symmetry(cov_matrix)"
   ],
   "metadata": {
    "collapsed": false,
    "pycharm": {
     "name": "#%%\n"
    }
   }
  },
  {
   "cell_type": "code",
   "execution_count": 97,
   "outputs": [
    {
     "name": "stderr",
     "output_type": "stream",
     "text": [
      "C:\\Tool\\Python3\\lib\\site-packages\\deap\\creator.py:185: RuntimeWarning: A class named 'FitnessMulti' has already been created and it will be overwritten. Consider deleting previous creation of that class or rename it.\n",
      "  warnings.warn(\"A class named '{0}' has already been created and it \"\n",
      "C:\\Tool\\Python3\\lib\\site-packages\\deap\\creator.py:185: RuntimeWarning: A class named 'Individual' has already been created and it will be overwritten. Consider deleting previous creation of that class or rename it.\n",
      "  warnings.warn(\"A class named '{0}' has already been created and it \"\n"
     ]
    }
   ],
   "source": [
    "\"\"\"\n",
    "GA Initialization\n",
    "\"\"\"\n",
    "# Objective\n",
    "creator.create(\"FitnessMulti\", base.Fitness, weights=(-1.0,)) # MIN portfolio variance\n",
    "creator.create(\"Individual\", list, fitness=creator.FitnessMulti)\n",
    "\n",
    "# Individual Initialisation\n",
    "toolbox = base.Toolbox()\n",
    "toolbox.register(\"attr_bool\", random.randint, 0, 1)\n",
    "toolbox.register(\"individual\", tools.initRepeat, creator.Individual, toolbox.attr_bool, n=len(cov_matrix.columns))\n",
    "toolbox.register(\"population\", tools.initRepeat, list, toolbox.individual)"
   ],
   "metadata": {
    "collapsed": false,
    "pycharm": {
     "name": "#%%\n"
    }
   }
  },
  {
   "cell_type": "code",
   "execution_count": 98,
   "outputs": [],
   "source": [
    "\"\"\"\n",
    "Test Model:\n",
    "Min sum(wi*cov(ri,rj)), s.t. sum(wi)=1，0<=wi<=1\n",
    "\"\"\"\n",
    "# Portfolio Variance\n",
    "def test_model(individual, cov_matrix):\n",
    "    # extract sub matrix\n",
    "    included_assets_indices = [index for index, include in enumerate(individual) if include == 1]\n",
    "    sub_cov_matrix = cov_matrix.iloc[included_assets_indices, included_assets_indices]\n",
    "    sub_cov_matrix = np.array(sub_cov_matrix)\n",
    "\n",
    "    # bound and weight\n",
    "    n = len(included_assets_indices)\n",
    "    bounds_min = [0 for _ in range(n)]\n",
    "    bounds_max = [1 for _ in range(n)]\n",
    "    weights = cp.Variable(n)\n",
    "\n",
    "    # define objective - minimize variance\n",
    "    portfolio_variance = cp.quad_form(weights, sub_cov_matrix)\n",
    "    objective = cp.Minimize(portfolio_variance)\n",
    "\n",
    "    # constraints\n",
    "    constraints = [cp.sum(weights) == 1, weights >= bounds_min, weights <= bounds_max]\n",
    "    problem = cp.Problem(objective, constraints)\n",
    "\n",
    "    # solve problem\n",
    "    problem.solve()\n",
    "    if problem.status == cp.OPTIMAL:\n",
    "        optimal_weights = weights.value\n",
    "        optimal_portfolio_variance = np.dot(optimal_weights.T, np.dot(sub_cov_matrix, optimal_weights))\n",
    "    else:\n",
    "        optimal_weights = None\n",
    "        optimal_portfolio_variance = 9999\n",
    "\n",
    "    return optimal_portfolio_variance, optimal_weights"
   ],
   "metadata": {
    "collapsed": false,
    "pycharm": {
     "name": "#%%\n"
    }
   }
  },
  {
   "cell_type": "code",
   "execution_count": 99,
   "outputs": [],
   "source": [
    "\"\"\"\n",
    "Fitness Function\n",
    "\"\"\"\n",
    "def evaluate(individual):\n",
    "    portfolio_variance, weights = test_model(individual, cov_matrix)\n",
    "    return portfolio_variance,"
   ],
   "metadata": {
    "collapsed": false,
    "pycharm": {
     "name": "#%%\n"
    }
   }
  },
  {
   "cell_type": "code",
   "execution_count": 100,
   "outputs": [],
   "source": [
    "\"\"\"\n",
    "Algorithm Setup\n",
    "\"\"\"\n",
    "toolbox.register(\"evaluate\", evaluate)\n",
    "toolbox.register(\"mate\", tools.cxTwoPoint)\n",
    "toolbox.register(\"mutate\", tools.mutFlipBit, indpb=0.05)\n",
    "toolbox.register(\"select\", tools.selNSGA2)"
   ],
   "metadata": {
    "collapsed": false,
    "pycharm": {
     "name": "#%%\n"
    }
   }
  },
  {
   "cell_type": "code",
   "execution_count": 101,
   "outputs": [
    {
     "name": "stdout",
     "output_type": "stream",
     "text": [
      "gen\tnevals\tavg         \tstd         \tmin         \tmax         \n",
      "0  \t150   \t[0.19038119]\t[0.00865985]\t[0.17386587]\t[0.21517929]\n",
      "1  \t107   \t[0.19053357]\t[0.00925397]\t[0.17386587]\t[0.22154367]\n",
      "2  \t118   \t[0.1908128] \t[0.01045697]\t[0.17115568]\t[0.22154367]\n",
      "3  \t102   \t[0.1909374] \t[0.01143797]\t[0.17088063]\t[0.22092398]\n",
      "4  \t97    \t[0.19077054]\t[0.01161325]\t[0.17088063]\t[0.2256616] \n",
      "5  \t119   \t[0.19086321]\t[0.01218233]\t[0.17083858]\t[0.23075678]\n",
      "6  \t115   \t[0.1909262] \t[0.01237548]\t[0.17083858]\t[0.23645669]\n",
      "7  \t103   \t[0.19069655]\t[0.01267022]\t[0.17067505]\t[0.23624846]\n",
      "8  \t107   \t[0.19050991]\t[0.01277108]\t[0.17084433]\t[0.23112166]\n",
      "9  \t108   \t[0.19061556]\t[0.01300746]\t[0.16994809]\t[0.23226319]\n",
      "10 \t120   \t[0.19077361]\t[0.01343701]\t[0.17000609]\t[0.23226319]\n",
      "11 \t107   \t[0.19078359]\t[0.01360646]\t[0.17026586]\t[0.2295413] \n",
      "12 \t113   \t[0.19058133]\t[0.01402836]\t[0.16924605]\t[0.2295413] \n",
      "13 \t111   \t[0.19058031]\t[0.01431502]\t[0.16932148]\t[0.23369882]\n",
      "14 \t114   \t[0.19063651]\t[0.01477453]\t[0.16932148]\t[0.23476342]\n",
      "15 \t120   \t[0.19081168]\t[0.01488353]\t[0.16951017]\t[0.23227451]\n",
      "16 \t118   \t[0.19089665]\t[0.01486348]\t[0.168971]  \t[0.23385675]\n",
      "17 \t114   \t[0.19092436]\t[0.01481131]\t[0.16918541]\t[0.23561531]\n",
      "18 \t109   \t[0.19088595]\t[0.01491185]\t[0.16896435]\t[0.23812267]\n",
      "19 \t123   \t[0.19095635]\t[0.01482222]\t[0.16896435]\t[0.24063809]\n",
      "20 \t109   \t[0.19101184]\t[0.01474071]\t[0.16864321]\t[0.24063809]\n",
      "21 \t115   \t[0.19095741]\t[0.01481189]\t[0.16864321]\t[0.23698239]\n",
      "22 \t114   \t[0.19098789]\t[0.01504346]\t[0.16864321]\t[0.23686655]\n",
      "23 \t115   \t[0.19126191]\t[0.01547032]\t[0.16864321]\t[0.23828647]\n",
      "24 \t122   \t[0.19165323]\t[0.01559695]\t[0.1683871] \t[0.23828647]\n",
      "25 \t113   \t[0.1915965] \t[0.01559061]\t[0.16869245]\t[0.23823174]\n",
      "26 \t117   \t[0.19168122]\t[0.01549225]\t[0.16901934]\t[0.23745669]\n",
      "27 \t121   \t[0.19177041]\t[0.0153775] \t[0.16897717]\t[0.23279274]\n",
      "28 \t109   \t[0.19182129]\t[0.01545378]\t[0.1690846] \t[0.23157302]\n",
      "29 \t115   \t[0.19195446]\t[0.01539802]\t[0.1690846] \t[0.23157302]\n",
      "30 \t124   \t[0.19201565]\t[0.01538589]\t[0.16924247]\t[0.2322851] \n",
      "31 \t114   \t[0.19231373]\t[0.01576218]\t[0.16924247]\t[0.23957473]\n",
      "32 \t120   \t[0.19228593]\t[0.0157808] \t[0.16924247]\t[0.23957473]\n",
      "33 \t115   \t[0.19232273]\t[0.01603953]\t[0.16870219]\t[0.23686933]\n",
      "34 \t114   \t[0.19251529]\t[0.0162381] \t[0.16878403]\t[0.23686933]\n",
      "35 \t111   \t[0.19266053]\t[0.01623641]\t[0.16878403]\t[0.23668461]\n",
      "36 \t118   \t[0.19248876]\t[0.01611754]\t[0.16878403]\t[0.23273605]\n",
      "37 \t117   \t[0.19240182]\t[0.01624238]\t[0.16899859]\t[0.23273605]\n",
      "38 \t103   \t[0.19231248]\t[0.01624688]\t[0.16820176]\t[0.24120849]\n",
      "39 \t116   \t[0.19230524]\t[0.01601522]\t[0.16821749]\t[0.23416852]\n",
      "40 \t118   \t[0.19236224]\t[0.01587102]\t[0.16836555]\t[0.2393816] \n",
      "41 \t115   \t[0.19268267]\t[0.01581625]\t[0.16836555]\t[0.2393816] \n",
      "42 \t117   \t[0.19275427]\t[0.01575343]\t[0.16902986]\t[0.23929338]\n",
      "43 \t113   \t[0.19272177]\t[0.01571261]\t[0.16902986]\t[0.23671552]\n",
      "44 \t125   \t[0.19276294]\t[0.01560466]\t[0.1691743] \t[0.23767844]\n",
      "45 \t116   \t[0.19273897]\t[0.01566708]\t[0.1690362] \t[0.23303905]\n",
      "46 \t112   \t[0.19259938]\t[0.01563772]\t[0.16848821]\t[0.24108184]\n",
      "47 \t108   \t[0.1927682] \t[0.01595847]\t[0.16794655]\t[0.23161459]\n",
      "48 \t116   \t[0.19269687]\t[0.01589559]\t[0.16778455]\t[0.23817037]\n",
      "49 \t117   \t[0.19263616]\t[0.01584523]\t[0.16778455]\t[0.2384945] \n",
      "50 \t109   \t[0.19288003]\t[0.01628859]\t[0.16778455]\t[0.23944649]\n",
      "51 \t122   \t[0.19276469]\t[0.01614078]\t[0.16774361]\t[0.23805279]\n",
      "52 \t113   \t[0.19280231]\t[0.01638559]\t[0.16798628]\t[0.24120587]\n",
      "53 \t118   \t[0.19295874]\t[0.01651507]\t[0.16844264]\t[0.24371328]\n",
      "54 \t108   \t[0.19300066]\t[0.01675351]\t[0.16833258]\t[0.23689401]\n",
      "55 \t125   \t[0.1930355] \t[0.01673248]\t[0.16850369]\t[0.24380409]\n",
      "56 \t110   \t[0.19282232]\t[0.01666325]\t[0.1678711] \t[0.24834056]\n",
      "57 \t118   \t[0.19315227]\t[0.01669282]\t[0.1678711] \t[0.2494573] \n",
      "58 \t105   \t[0.19324323]\t[0.01655337]\t[0.1678711] \t[0.24574998]\n",
      "59 \t111   \t[0.19319973]\t[0.01654081]\t[0.1678711] \t[0.23933324]\n",
      "60 \t106   \t[0.19287901]\t[0.01615804]\t[0.16843591]\t[0.24495001]\n",
      "61 \t129   \t[0.19290277]\t[0.01623503]\t[0.16818427]\t[0.24540646]\n",
      "62 \t117   \t[0.19296301]\t[0.01621352]\t[0.16818427]\t[0.24540646]\n",
      "63 \t119   \t[0.19275082]\t[0.01604294]\t[0.16812042]\t[0.24537198]\n",
      "64 \t105   \t[0.1927568] \t[0.01614441]\t[0.16830055]\t[0.24641164]\n",
      "65 \t107   \t[0.19296021]\t[0.01628016]\t[0.1681753] \t[0.24641164]\n",
      "66 \t119   \t[0.19309133]\t[0.01649537]\t[0.1682828] \t[0.24641164]\n",
      "67 \t106   \t[0.1929367] \t[0.01667551]\t[0.1682828] \t[0.24641164]\n",
      "68 \t116   \t[0.19275147]\t[0.01646851]\t[0.16803602]\t[0.24523425]\n",
      "69 \t114   \t[0.19280658]\t[0.01648947]\t[0.16803602]\t[0.24523425]\n",
      "70 \t118   \t[0.1929612] \t[0.01661045]\t[0.16803602]\t[0.24523425]\n",
      "71 \t118   \t[0.19305204]\t[0.01663412]\t[0.16803602]\t[0.24876243]\n",
      "72 \t111   \t[0.19320041]\t[0.01670286]\t[0.16803602]\t[0.24282237]\n",
      "73 \t115   \t[0.19349037]\t[0.01694141]\t[0.1677238] \t[0.24282237]\n",
      "74 \t100   \t[0.19361187]\t[0.01711198]\t[0.16771786]\t[0.24282237]\n",
      "75 \t123   \t[0.19362267]\t[0.0170489] \t[0.16769326]\t[0.24282237]\n",
      "76 \t112   \t[0.1937545] \t[0.01716262]\t[0.16769326]\t[0.24169657]\n",
      "77 \t117   \t[0.19382464]\t[0.01715719]\t[0.16769112]\t[0.24137259]\n",
      "78 \t121   \t[0.19412205]\t[0.01734937]\t[0.16791882]\t[0.24617655]\n",
      "79 \t116   \t[0.1943633] \t[0.01753716]\t[0.16782941]\t[0.24868323]\n",
      "80 \t102   \t[0.1940365] \t[0.01731081]\t[0.1684107] \t[0.24868323]\n",
      "81 \t111   \t[0.19383424]\t[0.01704885]\t[0.1684107] \t[0.24868323]\n",
      "82 \t109   \t[0.19380665]\t[0.01719175]\t[0.16848594]\t[0.24867425]\n",
      "83 \t125   \t[0.19388772]\t[0.0174682] \t[0.16848594]\t[0.24867425]\n",
      "84 \t116   \t[0.19375177]\t[0.0176181] \t[0.16782644]\t[0.24773673]\n",
      "85 \t119   \t[0.1936282] \t[0.01779958]\t[0.16782644]\t[0.24773673]\n",
      "86 \t108   \t[0.1937234] \t[0.01761653]\t[0.16777825]\t[0.24796138]\n",
      "87 \t107   \t[0.19404284]\t[0.01781914]\t[0.16777825]\t[0.24802142]\n",
      "88 \t116   \t[0.1942555] \t[0.01790833]\t[0.16842138]\t[0.25234068]\n",
      "89 \t121   \t[0.19411085]\t[0.01773393]\t[0.16858383]\t[0.25255542]\n",
      "90 \t101   \t[0.19392245]\t[0.01767792]\t[0.16858383]\t[0.24397581]\n",
      "91 \t116   \t[0.19375032]\t[0.01728403]\t[0.16858383]\t[0.24216266]\n",
      "92 \t121   \t[0.19354045]\t[0.01698526]\t[0.16851688]\t[0.23547216]\n",
      "93 \t111   \t[0.19337072]\t[0.01712859]\t[0.16846115]\t[0.23747423]\n",
      "94 \t114   \t[0.19325982]\t[0.017462]  \t[0.16846115]\t[0.23953639]\n",
      "95 \t110   \t[0.19325389]\t[0.0173736] \t[0.16826371]\t[0.23953639]\n",
      "96 \t117   \t[0.19357396]\t[0.01763974]\t[0.16862184]\t[0.23908752]\n",
      "97 \t113   \t[0.19373052]\t[0.01757017]\t[0.16862184]\t[0.23989513]\n",
      "98 \t111   \t[0.19358983]\t[0.01741959]\t[0.16895789]\t[0.23787113]\n",
      "99 \t103   \t[0.19371798]\t[0.01754285]\t[0.1690346] \t[0.23577676]\n",
      "100\t100   \t[0.19365942]\t[0.01758915]\t[0.16886031]\t[0.23939995]\n",
      "101\t108   \t[0.19356021]\t[0.01747042]\t[0.16886031]\t[0.24146457]\n",
      "102\t113   \t[0.19367489]\t[0.01768578]\t[0.16914204]\t[0.24155037]\n",
      "103\t109   \t[0.19354292]\t[0.0177245] \t[0.16921404]\t[0.24155037]\n",
      "104\t121   \t[0.19346926]\t[0.01762873]\t[0.16863113]\t[0.24410691]\n",
      "105\t113   \t[0.19343329]\t[0.01778546]\t[0.16832377]\t[0.24410691]\n",
      "106\t109   \t[0.19312214]\t[0.01764319]\t[0.16832377]\t[0.24561438]\n",
      "107\t106   \t[0.19295267]\t[0.01744002]\t[0.16771267]\t[0.24525802]\n",
      "108\t117   \t[0.19329595]\t[0.01770181]\t[0.16748603]\t[0.24951235]\n",
      "109\t128   \t[0.19332489]\t[0.0176263] \t[0.16748603]\t[0.24933926]\n",
      "110\t100   \t[0.19304963]\t[0.01729992]\t[0.16847682]\t[0.24933926]\n",
      "111\t110   \t[0.19301167]\t[0.01753634]\t[0.16847682]\t[0.24933926]\n",
      "112\t117   \t[0.19292609]\t[0.01756931]\t[0.16859323]\t[0.24779051]\n",
      "113\t102   \t[0.19275648]\t[0.01735108]\t[0.16841106]\t[0.24831993]\n",
      "114\t119   \t[0.1926979] \t[0.01742835]\t[0.16841106]\t[0.25135694]\n",
      "115\t123   \t[0.19253519]\t[0.0174009] \t[0.16775031]\t[0.24831993]\n",
      "116\t103   \t[0.19277548]\t[0.01726988]\t[0.16782979]\t[0.24831993]\n",
      "117\t108   \t[0.19285928]\t[0.01736698]\t[0.16782979]\t[0.24831993]\n",
      "118\t113   \t[0.19286222]\t[0.01728759]\t[0.16782979]\t[0.25051306]\n",
      "119\t101   \t[0.19289967]\t[0.01743791]\t[0.16755251]\t[0.25051306]\n",
      "120\t108   \t[0.19300992]\t[0.01763313]\t[0.16791732]\t[0.24783426]\n",
      "121\t118   \t[0.1931386] \t[0.01741317]\t[0.1676683] \t[0.23834596]\n",
      "122\t112   \t[0.19265477]\t[0.01717462]\t[0.16766877]\t[0.25132114]\n",
      "123\t114   \t[0.19273255]\t[0.01708772]\t[0.16791004]\t[0.24827163]\n",
      "124\t114   \t[0.19260233]\t[0.01722651]\t[0.16846931]\t[0.2463818] \n",
      "125\t121   \t[0.19263499]\t[0.01725585]\t[0.16884818]\t[0.24518077]\n",
      "126\t131   \t[0.19246902]\t[0.01738622]\t[0.16884818]\t[0.24524484]\n",
      "127\t99    \t[0.19256218]\t[0.01736411]\t[0.16817594]\t[0.24524484]\n",
      "128\t126   \t[0.19283795]\t[0.01740227]\t[0.16824092]\t[0.24041726]\n",
      "129\t116   \t[0.19288918]\t[0.01728725]\t[0.16791263]\t[0.2418738] \n",
      "130\t121   \t[0.19314138]\t[0.01731536]\t[0.16901277]\t[0.24659218]\n",
      "131\t108   \t[0.19324555]\t[0.01732616]\t[0.1687917] \t[0.24548857]\n",
      "132\t107   \t[0.19308243]\t[0.01684937]\t[0.16857722]\t[0.23389476]\n",
      "133\t101   \t[0.19274312]\t[0.01661601]\t[0.16857722]\t[0.23433953]\n",
      "134\t123   \t[0.19279054]\t[0.01689839]\t[0.1685468] \t[0.23766165]\n",
      "135\t115   \t[0.19314056]\t[0.01711051]\t[0.16829872]\t[0.23766165]\n",
      "136\t118   \t[0.19302947]\t[0.01713263]\t[0.16829872]\t[0.25123612]\n",
      "137\t108   \t[0.19299144]\t[0.01728084]\t[0.16850561]\t[0.25123612]\n",
      "138\t119   \t[0.19326649]\t[0.01738862]\t[0.16876842]\t[0.25123612]\n",
      "139\t109   \t[0.19297526]\t[0.01710313]\t[0.1687939] \t[0.24729737]\n",
      "140\t125   \t[0.19317368]\t[0.01738869]\t[0.16888789]\t[0.253188]  \n",
      "141\t105   \t[0.19333016]\t[0.0173127] \t[0.16888789]\t[0.24956437]\n",
      "142\t109   \t[0.19355724]\t[0.01723245]\t[0.16920374]\t[0.24956437]\n",
      "143\t112   \t[0.19366437]\t[0.01734673]\t[0.16921222]\t[0.24956437]\n",
      "144\t108   \t[0.19353675]\t[0.01710262]\t[0.16884101]\t[0.24956437]\n",
      "145\t102   \t[0.19356856]\t[0.01675873]\t[0.16877067]\t[0.24827148]\n",
      "146\t103   \t[0.19342272]\t[0.01669663]\t[0.16875463]\t[0.25316618]\n",
      "147\t118   \t[0.1935791] \t[0.01695985]\t[0.1683036] \t[0.253525]  \n",
      "148\t113   \t[0.19360043]\t[0.01712749]\t[0.1683036] \t[0.24961254]\n",
      "149\t102   \t[0.19351646]\t[0.01706429]\t[0.16817128]\t[0.25210886]\n",
      "150\t105   \t[0.19352957]\t[0.01685147]\t[0.1681704] \t[0.25210886]\n"
     ]
    }
   ],
   "source": [
    "\"\"\"\n",
    "Run GA\n",
    "\"\"\"\n",
    "def run_ga(pop_size, num_generations):\n",
    "    pop = toolbox.population(n=pop_size)\n",
    "    hof = tools.ParetoFront()\n",
    "    stats = tools.Statistics(lambda ind: ind.fitness.values)\n",
    "    stats.register(\"avg\", np.mean, axis=0)\n",
    "    stats.register(\"std\", np.std, axis=0)\n",
    "    stats.register(\"min\", np.min, axis=0)\n",
    "    stats.register(\"max\", np.max, axis=0)\n",
    "\n",
    "    # check hof generation number (1)\n",
    "    # generation_of_individual = {}\n",
    "    # for gen in range(num_generations):\n",
    "    #     # Check generation index\n",
    "    #     print(f\"Generation: {gen}\")\n",
    "    #     # Run one generation of the genetic algorithm\n",
    "    #     algorithms.eaSimple(pop, toolbox, cxpb=0.7, mutpb=0.2, ngen=1, stats=stats, halloffame=hof, verbose=True)\n",
    "    #     # Update the generation information for each individual in the hall of fame\n",
    "    #     for ind in hof:\n",
    "    #         if str(ind) not in generation_of_individual:\n",
    "    #             generation_of_individual[str(ind)] = gen\n",
    "    # return pop, hof, stats, generation_of_individual\n",
    "\n",
    "    # without generation series check (2)\n",
    "    pop, logbook = algorithms.eaSimple(pop, toolbox, cxpb=0.7, mutpb=0.2, ngen=num_generations, stats=stats, halloffame=hof, verbose=True)\n",
    "\n",
    "    return pop, hof, stats, logbook\n",
    "\n",
    "population, pareto_front, stats, logbook = run_ga(150, 150)"
   ],
   "metadata": {
    "collapsed": false,
    "pycharm": {
     "name": "#%%\n"
    }
   }
  },
  {
   "cell_type": "code",
   "execution_count": 102,
   "outputs": [
    {
     "name": "stdout",
     "output_type": "stream",
     "text": [
      "Individual: [1, 1, 1, 0, 1, 0, 0, 1, 1, 1, 0, 0, 0, 0, 1, 0, 0, 1, 0, 0, 1, 0, 1, 1, 0, 0, 1, 1, 1, 0, 1, 0, 0, 1, 1, 1, 1, 0, 1, 1, 1, 1, 0, 0, 1, 1, 1, 0, 1, 0, 1, 0, 0, 0, 1, 1, 1, 1, 1, 1, 1, 1, 1, 1, 1, 0, 0, 1, 1, 0, 0, 0, 0, 1, 1, 0, 1, 0, 1, 0, 1, 1, 1, 0, 0, 1, 0, 1, 0, 0, 0, 0, 0, 0, 1, 0, 1, 1, 1, 1, 1, 0, 0, 0, 1, 1, 1, 1, 0, 1, 0, 0, 0, 0, 0, 1, 1, 1, 1, 0, 0, 1, 1, 0, 1, 1, 1, 0, 0, 1, 1, 0, 1, 0, 1, 1, 1, 1, 0, 1, 0, 0, 1, 0, 1, 1, 0, 1, 1, 1, 1, 0, 1, 0, 1, 1, 1, 1, 0, 0, 0, 1, 0, 1, 1, 1, 1, 0, 1, 0, 1, 1, 1, 1, 1, 1, 0, 0, 1, 0, 1, 0, 1, 1, 1, 0, 0, 0, 1, 1, 1, 1, 1, 1, 0]\n",
      "Weights: [-1.12553286e-23  1.08169577e-02 -1.19714866e-22  0.00000000e+00\n",
      "  1.42949746e-22  0.00000000e+00  0.00000000e+00  1.13747855e-23\n",
      "  8.67809172e-03  3.64023573e-03  0.00000000e+00  0.00000000e+00\n",
      "  0.00000000e+00  0.00000000e+00  5.69740591e-23  0.00000000e+00\n",
      "  0.00000000e+00  6.80899915e-03  0.00000000e+00  0.00000000e+00\n",
      " -6.89087260e-24  0.00000000e+00  1.26400101e-02  5.15840209e-02\n",
      "  0.00000000e+00  0.00000000e+00  2.62111621e-02 -9.16923646e-24\n",
      "  3.72688395e-02  0.00000000e+00  2.19795434e-02  0.00000000e+00\n",
      "  0.00000000e+00  7.54538484e-23 -2.22566251e-23  2.57401455e-02\n",
      " -3.31324247e-23  0.00000000e+00  1.18162883e-03 -1.38253951e-22\n",
      "  6.98277155e-23 -1.36321538e-22  0.00000000e+00  0.00000000e+00\n",
      " -5.70253116e-23  3.70243538e-02  3.23154777e-23  0.00000000e+00\n",
      " -8.04711959e-23  0.00000000e+00  8.07093591e-02  0.00000000e+00\n",
      "  0.00000000e+00  0.00000000e+00 -4.20086611e-23  8.11719331e-03\n",
      " -2.64548063e-25  2.72089328e-02  4.59042525e-03  2.58083539e-02\n",
      "  9.93195801e-23  3.74356930e-02 -1.16710354e-23  7.20025731e-23\n",
      "  2.99646287e-02  0.00000000e+00  0.00000000e+00  2.68411587e-02\n",
      "  6.64457618e-02  0.00000000e+00  0.00000000e+00  0.00000000e+00\n",
      "  0.00000000e+00 -5.86295122e-24  2.03766364e-02  0.00000000e+00\n",
      "  5.85080229e-02  0.00000000e+00 -2.19862394e-23  0.00000000e+00\n",
      "  1.77951360e-02  2.56396432e-02  6.58858999e-23  0.00000000e+00\n",
      "  0.00000000e+00  9.67262799e-23  0.00000000e+00 -9.55218860e-23\n",
      "  0.00000000e+00  0.00000000e+00  0.00000000e+00  0.00000000e+00\n",
      "  0.00000000e+00  0.00000000e+00 -2.46149150e-23  0.00000000e+00\n",
      "  2.42602984e-23  4.05549609e-23  1.10184775e-23 -4.27615552e-23\n",
      "  1.72686106e-23  0.00000000e+00  0.00000000e+00  0.00000000e+00\n",
      " -2.25667868e-23 -1.28759301e-22  3.03540808e-23 -2.98377156e-23\n",
      "  0.00000000e+00  3.74683861e-23  0.00000000e+00  0.00000000e+00\n",
      "  0.00000000e+00  0.00000000e+00  0.00000000e+00  3.79769476e-02\n",
      "  4.37358301e-23  1.60500931e-02 -1.81089108e-23  0.00000000e+00\n",
      "  0.00000000e+00  5.09995531e-23 -6.32682637e-23  0.00000000e+00\n",
      "  6.60241651e-02  3.34102103e-23  6.70802779e-23  0.00000000e+00\n",
      "  0.00000000e+00  3.28782919e-23 -1.89089990e-23  0.00000000e+00\n",
      " -2.64909704e-23  0.00000000e+00  9.84533306e-23  2.38334592e-02\n",
      "  4.65830724e-23  1.20550574e-02  0.00000000e+00 -1.69747580e-22\n",
      "  0.00000000e+00  0.00000000e+00  6.45573128e-23  0.00000000e+00\n",
      "  2.26098732e-02 -1.94514023e-23  0.00000000e+00  6.39005967e-02\n",
      " -4.82565951e-23  5.70990810e-23 -3.36842605e-24  0.00000000e+00\n",
      "  1.56320094e-23  0.00000000e+00  3.92935771e-23  2.74392152e-23\n",
      " -8.60976775e-23  1.42717391e-23  0.00000000e+00  0.00000000e+00\n",
      "  0.00000000e+00 -8.98529458e-24  0.00000000e+00 -3.24378563e-23\n",
      "  6.92892230e-23  9.67529891e-23 -4.95232159e-23  0.00000000e+00\n",
      "  5.97905048e-02  0.00000000e+00 -9.43807642e-23 -9.49919430e-24\n",
      " -8.48064724e-23  2.47443696e-02 -8.45035776e-23  2.11417806e-23\n",
      "  0.00000000e+00  0.00000000e+00  2.67959923e-24  0.00000000e+00\n",
      "  2.20802836e-23  0.00000000e+00  4.16854702e-23  2.66647640e-23\n",
      " -5.16049028e-23  0.00000000e+00  0.00000000e+00  0.00000000e+00\n",
      " -4.95819013e-23  3.10564841e-25  9.58458334e-24 -6.57104832e-23\n",
      " -2.81867180e-23  6.72862298e-23  0.00000000e+00]\n",
      "Portfolio Variance: 0.1674860349768944\n"
     ]
    }
   ],
   "source": [
    "\"\"\"\n",
    "Pareto Front Output\n",
    "\"\"\"\n",
    "# Get weights info\n",
    "def get_weights(individual):\n",
    "    portfolio_variance, optimized_weights = test_model(individual, cov_matrix)\n",
    "    full_weights = np.zeros(len(cov_matrix.columns))\n",
    "    weight_index = 0\n",
    "    for i, included in enumerate(individual):\n",
    "        if included == 1:\n",
    "            full_weights[i] = optimized_weights[weight_index]\n",
    "            weight_index += 1\n",
    "    return full_weights\n",
    "\n",
    "# Retrieve and store weights\n",
    "individual_weights = {str(ind): get_weights(ind) for ind in pareto_front}\n",
    "\n",
    "# Print the individuals, corresponding weights and generation series number\n",
    "for ind in pareto_front:\n",
    "    print(f\"Individual: {ind}\")\n",
    "    print(f\"Weights: {individual_weights[str(ind)]}\")\n",
    "    print(f\"Portfolio Variance: {test_model(ind, cov_matrix)[0]}\")\n",
    "    # print(f\"Generation Index: {generation_of_individual[str(ind)]}\")\n"
   ],
   "metadata": {
    "collapsed": false,
    "pycharm": {
     "name": "#%%\n"
    }
   }
  },
  {
   "cell_type": "code",
   "execution_count": 103,
   "outputs": [
    {
     "data": {
      "text/plain": "<Figure size 1200x600 with 1 Axes>",
      "image/png": "[encoded data removed]"
     },
     "metadata": {},
     "output_type": "display_data"
    }
   ],
   "source": [
    "gen = logbook.select('gen')\n",
    "min_fitness = logbook.select('min')\n",
    "\n",
    "def normalize(data):\n",
    "    min_val = np.min(data)\n",
    "    max_val = np.max(data)\n",
    "    return (data - min_val) / (max_val - min_val)\n",
    "\n",
    "normalized_min_fitness = [normalize([fit[i] for fit in min_fitness]) for i in range(len(min_fitness[0]))]\n",
    "\n",
    "plt.figure(figsize=(12, 6))\n",
    "\n",
    "for obj_avg in normalized_min_fitness:\n",
    "    plt.plot(gen, obj_avg, label=f'Normalized Portfolio Variance Average Fitness', marker='o')\n",
    "\n",
    "plt.fill_between(gen, 0, 1, alpha=0.2, color='grey')\n",
    "\n",
    "plt.title('Fitness Statistics over Generations')\n",
    "plt.xlabel('Generation')\n",
    "plt.ylabel('Fitness')\n",
    "plt.legend()\n",
    "plt.grid(True)\n",
    "plt.show()"
   ],
   "metadata": {
    "collapsed": false,
    "pycharm": {
     "name": "#%%\n"
    }
   }
  },
  {
   "cell_type": "code",
   "execution_count": 103,
   "outputs": [],
   "source": [],
   "metadata": {
    "collapsed": false,
    "pycharm": {
     "name": "#%%\n"
    }
   }
  }
 ],
 "metadata": {
  "kernelspec": {
   "display_name": "Python 3",
   "language": "python",
   "name": "python3"
  },
  "language_info": {
   "codemirror_mode": {
    "name": "ipython",
    "version": 2
   },
   "file_extension": ".py",
   "mimetype": "text/x-python",
   "name": "python",
   "nbconvert_exporter": "python",
   "pygments_lexer": "ipython2",
   "version": "2.7.6"
  }
 },
 "nbformat": 4,
 "nbformat_minor": 0
}