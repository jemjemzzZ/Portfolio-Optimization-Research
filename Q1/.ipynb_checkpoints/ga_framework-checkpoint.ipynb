{
 "cells": [
  {
   "cell_type": "code",
   "execution_count": null,
   "outputs": [],
   "source": [
    "import random\n",
    "import numpy as np\n",
    "import pandas as pd\n",
    "from sklearn.cluster import KMeans\n",
    "from deap import base, creator, tools, algorithms\n",
    "from optimize_portfolio import optimize_portfolio\n"
   ],
   "metadata": {
    "collapsed": false,
    "pycharm": {
     "name": "#%%\n"
    }
   }
  },
  {
   "cell_type": "code",
   "execution_count": null,
   "outputs": [],
   "source": [
    "\"\"\"\n",
    "Data Setup\n",
    "\"\"\"\n",
    "\n",
    "# Load the dataset\n",
    "asset_index = pd.read_excel(\"data/asset_index.xlsx\")\n",
    "trade_dt = pd.read_excel(\"data/ashare_trading_calender.xlsx\")\n",
    "asset_index = asset_index[asset_index['TRADE_DT'].isin(trade_dt['TRADE_DT'])]"
   ],
   "metadata": {
    "collapsed": false,
    "pycharm": {
     "name": "#%%\n"
    }
   }
  },
  {
   "cell_type": "code",
   "execution_count": null,
   "outputs": [],
   "source": [
    "\"\"\"\n",
    "Clustering (Optional)\n",
    "\"\"\"\n"
   ],
   "metadata": {
    "collapsed": false,
    "pycharm": {
     "name": "#%%\n"
    }
   }
  },
  {
   "cell_type": "code",
   "execution_count": null,
   "outputs": [],
   "source": [
    "\"\"\"\n",
    "GA Initialization\n",
    "\"\"\"\n",
    "\n",
    "# Objective Setup\n",
    "creator.create(\"FitnessMulti\", base.Fitness, weights=(1.0, 1.0, -1.0)) # MAX: return, sharpe; MIN: volatility\n",
    "creator.create(\"Individual\", list, fitness=creator.FitnessMulti)\n",
    "\n",
    "# GA Initialization\n",
    "toolbox = base.Toolbox()\n",
    "toolbox.register(\"attr_bool\", random.randint, 0, 1)\n",
    "toolbox.register(\"individual\", tools.initRepeat, creator.Individual, toolbox.attr_bool, n=len(asset_index))\n",
    "toolbox.register(\"population\", tools.initRepeat, list, toolbox.individual)"
   ],
   "metadata": {
    "collapsed": false,
    "pycharm": {
     "name": "#%%\n"
    }
   }
  },
  {
   "cell_type": "code",
   "execution_count": null,
   "outputs": [],
   "source": [
    "\"\"\"\n",
    "Fitness Function with Regularization (Optional)\n",
    "\"\"\"\n",
    "\n",
    "# Fitness Function\n",
    "def evaluate(individual):\n",
    "    # Select assets based on the individual's binary vector\n",
    "    selected_assets = [asset for asset, include in zip(asset_index, individual) if include]\n",
    "\n",
    "    # Model output (new weights)\n",
    "    new_weights, evaluation = optimize_portfolio('MVO', selected_assets, asset_index)\n",
    "\n",
    "    # Expected Return, Sharpe Ratio, Volatility\n",
    "    expected_return, sharpe_ratio, volatility = evaluation\n",
    "\n",
    "    return expected_return, sharpe_ratio, -volatility\n",
    "\n",
    "# optimize_portfolio(model_type, data, constraints)"
   ],
   "metadata": {
    "collapsed": false,
    "pycharm": {
     "name": "#%%\n"
    }
   }
  },
  {
   "cell_type": "code",
   "execution_count": null,
   "outputs": [],
   "source": [
    "\"\"\"\n",
    "Genetic Algorithm Setup\n",
    "\"\"\"\n",
    "\n",
    "# NSGA-II\n",
    "toolbox.register(\"evaluate\", evaluate)\n",
    "toolbox.register(\"mate\", tools.cxTwoPoint)\n",
    "toolbox.register(\"mutate\", tools.mutFlipBit, indpb=0.05)\n",
    "toolbox.register(\"select\", tools.selNSGA2)"
   ],
   "metadata": {
    "collapsed": false,
    "pycharm": {
     "name": "#%%\n"
    }
   }
  },
  {
   "cell_type": "code",
   "execution_count": null,
   "outputs": [],
   "source": [
    "\"\"\"\"\n",
    "Run Genetic Algorithm\n",
    "\"\"\"\n",
    "\n",
    "# Running the GA\n",
    "def run_ga(pop_size, num_generations):\n",
    "    pop = toolbox.population(n=pop_size)\n",
    "    hof = tools.ParetoFront()\n",
    "    stats = tools.Statistics(lambda ind: ind.fitness.values)\n",
    "    stats.register(\"avg\", np.mean, axis=0)\n",
    "    stats.register(\"std\", np.std, axis=0)\n",
    "    stats.register(\"min\", np.min, axis=0)\n",
    "    stats.register(\"max\", np.max, axis=0)\n",
    "\n",
    "    algorithms.eaSimple(pop, toolbox, cxpb=0.7, mutpb=0.2, ngen=num_generations, stats=stats, halloffame=hof, verbose=True)\n",
    "\n",
    "    return pop, hof, stats\n",
    "\n",
    "# Example run\n",
    "population, pareto_front, stats = run_ga(50, 100)  # 50 individuals, 100 generations"
   ],
   "metadata": {
    "collapsed": false,
    "pycharm": {
     "name": "#%%\n"
    }
   }
  },
  {
   "cell_type": "code",
   "execution_count": null,
   "outputs": [],
   "source": [
    "# Extract Best Portfolio\n"
   ],
   "metadata": {
    "collapsed": false,
    "pycharm": {
     "name": "#%%\n"
    }
   }
  }
 ],
 "metadata": {
  "kernelspec": {
   "display_name": "Python 3",
   "language": "python",
   "name": "python3"
  },
  "language_info": {
   "codemirror_mode": {
    "name": "ipython",
    "version": 2
   },
   "file_extension": ".py",
   "mimetype": "text/x-python",
   "name": "python",
   "nbconvert_exporter": "python",
   "pygments_lexer": "ipython2",
   "version": "2.7.6"
  }
 },
 "nbformat": 4,
 "nbformat_minor": 0
}