{
 "cells": [
  {
   "cell_type": "markdown",
   "metadata": {
    "collapsed": false,
    "pycharm": {
     "name": "#%% md\n"
    }
   },
   "source": [
    "# Genetic Algorithm Framework with MVO/RP models\n",
    "\n",
    "Using Genetic Algorithm to find the optimal asset collections with Mean-variance/Risk parity models.\n",
    "\n",
    "## Reference\n",
    "- GA Framework: [DEAP](https://deap.readthedocs.io/en/master/)\n",
    "- Multi-objective Algorithm: [NSGA2](https://deap.readthedocs.io/en/master/_modules/deap/tools/emo.html?highlight=selNSGA2#)\n",
    "- Stopping Criteria/Performance Indicator: [Hypervolume](https://pymoo.org/misc/indicators.html#Hypervolume)\n"
   ]
  },
  {
   "cell_type": "code",
   "execution_count": null,
   "metadata": {
    "collapsed": true,
    "pycharm": {
     "name": "#%%\n"
    }
   },
   "outputs": [],
   "source": [
    "import random\n",
    "import numpy as np\n",
    "import pandas as pd\n",
    "import matplotlib.pyplot as plt\n",
    "from deap import base, creator, tools, algorithms\n",
    "from optimize_portfolio import optimize_portfolio"
   ]
  },
  {
   "cell_type": "code",
   "execution_count": null,
   "metadata": {
    "collapsed": false,
    "pycharm": {
     "name": "#%%\n"
    }
   },
   "outputs": [],
   "source": [
    "\"\"\"\n",
    "Data Setup\n",
    "\"\"\"\n",
    "\n",
    "# Load the dataset\n",
    "asset_index = pd.read_csv(\"data/aidx_eod_prices.csv\")\n",
    "\n",
    "unique_assets = asset_index['S_IRDCODE'].unique() # index_code list\n",
    "print(unique_assets) # asset order"
   ]
  },
  {
   "cell_type": "code",
   "execution_count": null,
   "metadata": {
    "collapsed": false,
    "pycharm": {
     "name": "#%%\n"
    }
   },
   "outputs": [],
   "source": [
    "\"\"\"\n",
    "Framework Setup\n",
    "\"\"\"\n",
    "\n",
    "MODEL_TYPE = 'MVO' # MVO, RP\n",
    "TARGET_RETURN = 0.0 # target return\n",
    "LOOKBACK_PERIOD = 180 # backtest day\n",
    "RISK_FREE_RATE = 0.02 # risk-free rate\n",
    "DATA_END_DATE = '20231223' # end date of data for model calculation\n",
    "MAX_ASSETS_NUM = 10 # max number of assets"
   ]
  },
  {
   "cell_type": "code",
   "execution_count": null,
   "metadata": {
    "collapsed": false,
    "pycharm": {
     "name": "#%%\n"
    }
   },
   "outputs": [],
   "source": [
    "\"\"\"\n",
    "Fitness Function (Regularization - Optional)\n",
    "\"\"\"\n",
    "\n",
    "# Fitness Function\n",
    "def evaluate(individual):\n",
    "    # Select assets based on the individual's binary vector\n",
    "    selected_assets = [asset for asset, include in zip(unique_assets, individual) if include]\n",
    "\n",
    "    # If selected assets are empty (might be caused by mutation, crossover),\n",
    "    # Set output to extreme situation\n",
    "    if len(selected_assets) == 0:\n",
    "        return 0, 0, 99999 # min return/sharpe, max volatility\n",
    "\n",
    "    # Model output (new weights)\n",
    "    new_weights, evaluation = optimize_portfolio(model_type=MODEL_TYPE, index_list=selected_assets, asset_index=asset_index,\n",
    "                                                 data_end_date=DATA_END_DATE, backtest_day=LOOKBACK_PERIOD,\n",
    "                                                 target_return=TARGET_RETURN, risk_free_rate=RISK_FREE_RATE)\n",
    "\n",
    "    # Expected Return, Sharpe Ratio, Volatility\n",
    "    expected_return, sharpe_ratio, volatility = evaluation\n",
    "\n",
    "    return expected_return, sharpe_ratio, volatility"
   ]
  },
  {
   "cell_type": "code",
   "execution_count": null,
   "metadata": {
    "collapsed": false,
    "pycharm": {
     "name": "#%%\n"
    }
   },
   "outputs": [],
   "source": [
    "\"\"\"\n",
    "GA Setup\n",
    "\"\"\"\n",
    "\n",
    "# Objective Setup: MAX(return, sharpe); MIN(volatility) [Equally-weighed]\n",
    "creator.create(\"FitnessMulti\", base.Fitness, weights=(1.0, 1.0, -1.0))\n",
    "creator.create(\"Individual\", list, fitness=creator.FitnessMulti)\n",
    "\n",
    "# Individual Creation Func (Clustering - Optional)\n",
    "def create_individual():\n",
    "    individual = [random.randint(0, 1) for _ in range(len(unique_assets))]\n",
    "    if sum(individual) == 0:  # If all zeros, randomly set one to 1\n",
    "        individual[random.randint(0, len(unique_assets) - 1)] = 1\n",
    "    return individual\n",
    "\n",
    "# GA Initialization\n",
    "toolbox = base.Toolbox()\n",
    "toolbox.register(\"attr_bool\", random.randint, 0, 1)\n",
    "toolbox.register(\"individual\", tools.initIterate, creator.Individual, create_individual)\n",
    "toolbox.register(\"population\", tools.initRepeat, list, toolbox.individual)"
   ]
  },
  {
   "cell_type": "code",
   "execution_count": null,
   "metadata": {
    "collapsed": false,
    "pycharm": {
     "name": "#%%\n"
    }
   },
   "outputs": [],
   "source": [
    "\"\"\"\n",
    "GA Algorithms Registration (Crossover, Mutation, Selection)\n",
    "\"\"\"\n",
    "\n",
    "# NSGA-II\n",
    "toolbox.register(\"evaluate\", evaluate)\n",
    "toolbox.register(\"mate\", tools.cxTwoPoint)\n",
    "toolbox.register(\"mutate\", tools.mutFlipBit, indpb=0.05)\n",
    "toolbox.register(\"select\", tools.selNSGA2)"
   ]
  },
  {
   "cell_type": "code",
   "execution_count": null,
   "metadata": {
    "collapsed": false,
    "pycharm": {
     "name": "#%%\n"
    }
   },
   "outputs": [],
   "source": [
    "\"\"\"\n",
    "GA Stopping Criteria (Optional)\n",
    "\"\"\"\n",
    "\n",
    "# Method 1 - Stable Pareto Front\n",
    "def is_pareto_stable(history, gen, stability_threshold=10):\n",
    "    if gen < stability_threshold:\n",
    "        return False\n",
    "    last_fronts = history[-stability_threshold:]\n",
    "    return all(last_fronts[-1] == front for front in last_fronts)\n",
    "\n",
    "# Method 2 - Stable Pareto Front Size\n",
    "def is_pareto_size_stable(history, stability_threshold=50, relative_range=0.05):\n",
    "    if len(history) < stability_threshold:\n",
    "        return False\n",
    "\n",
    "    sizes = [len(front) for front in history[-stability_threshold:]]\n",
    "    max_size = max(sizes)\n",
    "    min_size = min(sizes)\n",
    "\n",
    "    if max_size == 0:\n",
    "        return False\n",
    "\n",
    "    size_fluctuation = (max_size - min_size) / max_size\n",
    "    return size_fluctuation <= relative_range\n",
    "\n",
    "# Method 3 - No Significant Improvements\n",
    "def no_significant_improvements(history, gen, stability_threshold=50, improvement_threshold=0.01):\n",
    "    if gen < stability_threshold:\n",
    "        return False\n",
    "    recent_hvs = history[-stability_threshold:]\n",
    "    return all((hv - min(recent_hvs)) / hv < improvement_threshold for hv in recent_hvs)"
   ]
  },
  {
   "cell_type": "code",
   "execution_count": null,
   "metadata": {
    "collapsed": false,
    "pycharm": {
     "name": "#%%\n"
    }
   },
   "outputs": [],
   "source": [
    "from deap.algorithms import varAnd\n",
    "\n",
    "\"\"\"\"\n",
    "Run Genetic Algorithm\n",
    "\"\"\"\n",
    "\n",
    "# Running the GA\n",
    "def run_ga(pop_size, num_generations):\n",
    "    # Records\n",
    "    pop = toolbox.population(n=pop_size)\n",
    "    hof = tools.ParetoFront()\n",
    "    logbook = tools.Logbook()\n",
    "    stats = tools.Statistics(lambda ind: ind.fitness.values)\n",
    "\n",
    "    stats.register(\"avg\", np.mean, axis=0)\n",
    "    stats.register(\"std\", np.std, axis=0)\n",
    "    stats.register(\"min\", np.min, axis=0)\n",
    "    stats.register(\"max\", np.max, axis=0)\n",
    "\n",
    "    # Refactor eaSimple with stopping criteria\n",
    "    def eaSimpleMod(cxpb, mutpb):\n",
    "        logbook.header = ['gen', 'nevals'] + (stats.fields if stats else [])\n",
    "\n",
    "        hv_history = [] # improvement record (using hypervolume)\n",
    "        pareto_history = [] # pareto record\n",
    "\n",
    "        # Begin the generational process\n",
    "        for gen in range(num_generations):\n",
    "            # Select the next generation individuals\n",
    "            offspring = toolbox.select(pop, len(pop))\n",
    "\n",
    "            # Vary the pool of individuals\n",
    "            offspring = varAnd(offspring, toolbox, cxpb, mutpb)\n",
    "\n",
    "            # Evaluate the individuals with an invalid fitness\n",
    "            invalid_ind = [ind for ind in offspring if not ind.fitness.valid]\n",
    "            fitnesses = toolbox.map(toolbox.evaluate, invalid_ind)\n",
    "            for ind, fit in zip(invalid_ind, fitnesses):\n",
    "                ind.fitness.values = fit\n",
    "\n",
    "            # Update the hall of fame with the generated individuals\n",
    "            if hof is not None:\n",
    "                hof.update(offspring)\n",
    "                pareto_history.append(list(hof)) # update the pareto history\n",
    "\n",
    "            # Replace the current population by the offspring\n",
    "            pop[:] = offspring\n",
    "\n",
    "            # Append the current generation statistics to the logbook\n",
    "            record = stats.compile(pop) if stats else {}\n",
    "            logbook.record(gen=gen, nevals=len(invalid_ind), **record)\n",
    "            print(logbook.stream)\n",
    "\n",
    "            # Calculate hypervolume of halloffame\n",
    "            modified_front = [] # negate third objective (min volatility)\n",
    "            for ind in hof:\n",
    "                modified_ind = toolbox.clone(ind) # clone individual\n",
    "                modified_values = [ind.fitness.values[0], ind.fitness.values[1], -ind.fitness.values[2]]\n",
    "                modified_ind.fitness.values = tuple(modified_values)\n",
    "                modified_front.append(modified_ind)\n",
    "            hv = tools.hypervolume(modified_front)\n",
    "            hv_history.append(hv)\n",
    "\n",
    "            # Stopping Criteria\n",
    "            if no_significant_improvements(hv_history, gen) and is_pareto_size_stable(pareto_history):\n",
    "                print(f\"Stopping GA at generation {gen}\")\n",
    "                break\n",
    "\n",
    "    # Execute evolutionary algorithm\n",
    "    # pop, logbook = algorithms.eaSimple(pop, toolbox, cxpb=0.7, mutpb=0.2, ngen=num_generations, stats=stats, halloffame=hof,  verbose=True) # without stopping criteria\n",
    "    eaSimpleMod(0.7, 0.2) # with stopping criteria\n",
    "\n",
    "    return pop, hof, stats, logbook\n",
    "\n",
    "# GA run\n",
    "population, pareto_front, stats, logbook = run_ga(50, 200)  # X individuals, Y generations"
   ]
  },
  {
   "cell_type": "code",
   "execution_count": null,
   "metadata": {
    "collapsed": false,
    "pycharm": {
     "name": "#%%\n"
    }
   },
   "outputs": [],
   "source": [
    "\"\"\"\n",
    "Pareto Front\n",
    "\"\"\"\n",
    "\n",
    "# Retrieve Weights/evaluations\n",
    "def get_weights_evaluations(individual):\n",
    "    selected_assets = [asset for asset, include in zip(unique_assets, individual) if include]\n",
    "    new_weights, evaluation = optimize_portfolio(model_type=MODEL_TYPE, index_list=selected_assets, asset_index=asset_index,\n",
    "                                                 data_end_date=DATA_END_DATE, backtest_day=LOOKBACK_PERIOD,\n",
    "                                                 target_return=TARGET_RETURN, risk_free_rate=RISK_FREE_RATE)\n",
    "    return new_weights, evaluation\n",
    "\n",
    "# Retrieve and store weights/evaluations\n",
    "individual_weights = {str(ind): get_weights_evaluations(ind)[0] for ind in pareto_front}\n",
    "individual_evaluations = {str(ind): get_weights_evaluations(ind)[1] for ind in pareto_front}\n",
    "\n",
    "# Output\n",
    "for i, ind in enumerate(pareto_front):\n",
    "    print(f\"Pareto Front {i}\")\n",
    "    print(f\"Individual: {ind}\")\n",
    "    print(f\"Weights: {individual_weights[str(ind)]}\")\n",
    "    print(f\"Evaluations: {individual_evaluations[str(ind)]}\")\n",
    "    print(\"\")"
   ]
  },
  {
   "cell_type": "code",
   "execution_count": null,
   "metadata": {
    "collapsed": false,
    "pycharm": {
     "name": "#%%\n"
    }
   },
   "outputs": [],
   "source": [
    "\"\"\"\n",
    "Evolutionary Visualization\n",
    "\"\"\"\n",
    "\n",
    "# Extracting the statistics\n",
    "gen = logbook.select(\"gen\")\n",
    "avg_fitness = logbook.select(\"avg\")\n",
    "std_fitness = logbook.select(\"std\")\n",
    "min_fitness = logbook.select(\"min\")\n",
    "max_fitness = logbook.select(\"max\")\n",
    "\n",
    "# Normalization function\n",
    "def normalize(data):\n",
    "    min_val = np.min(data)\n",
    "    max_val = np.max(data)\n",
    "    return (data - min_val) / (max_val - min_val)\n",
    "\n",
    "# Normalizing the average fitness for each objective\n",
    "normalized_avg_fitness = [normalize([fit[i] for fit in avg_fitness]) for i in range(len(avg_fitness[0]))]\n",
    "\n",
    "# Plotting for multiple objectives\n",
    "plt.figure(figsize=(12, 6))\n",
    "\n",
    "# Each objective (Avg)\n",
    "plt.plot(gen, normalized_avg_fitness[0], label=f'Normalized {{Max Return}} Average Fitness', marker='o')\n",
    "plt.plot(gen, normalized_avg_fitness[1], label=f'Normalized {{Max Sharpe}} Average Fitness', marker='o')\n",
    "plt.plot(gen, normalized_avg_fitness[2], label=f'Normalized {{Min Volatility}} Average Fitness', marker='o')\n",
    "\n",
    "# Misc\n",
    "plt.fill_between(gen, 0, 1, alpha=0.2, color='grey')\n",
    "plt.title('Fitness Statistics over Generations')\n",
    "plt.xlabel('Generation')\n",
    "plt.ylabel('Fitness')\n",
    "plt.legend()\n",
    "plt.grid(True)\n",
    "plt.show()\n"
   ]
  }
 ],
 "metadata": {
  "kernelspec": {
   "display_name": "Python 3",
   "language": "python",
   "name": "python3"
  },
  "language_info": {
   "codemirror_mode": {
    "name": "ipython",
    "version": 3
   },
   "file_extension": ".py",
   "mimetype": "text/x-python",
   "name": "python",
   "nbconvert_exporter": "python",
   "pygments_lexer": "ipython3",
   "version": "3.10.5"
  }
 },
 "nbformat": 4,
 "nbformat_minor": 0
}
